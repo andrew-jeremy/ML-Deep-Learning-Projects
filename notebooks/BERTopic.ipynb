{
  "nbformat": 4,
  "nbformat_minor": 0,
  "metadata": {
    "accelerator": "TPU",
    "colab": {
      "name": "BERTopic.ipynb",
      "provenance": [],
      "collapsed_sections": [],
      "machine_shape": "hm"
    },
    "kernelspec": {
      "display_name": "Python 3",
      "name": "python3"
    },
    "widgets": {
      "application/vnd.jupyter.widget-state+json": {
        "9c8b777e74354830a18af9f099148b4f": {
          "model_module": "@jupyter-widgets/controls",
          "model_name": "HBoxModel",
          "state": {
            "_dom_classes": [],
            "_model_module": "@jupyter-widgets/controls",
            "_model_module_version": "1.5.0",
            "_model_name": "HBoxModel",
            "_view_count": null,
            "_view_module": "@jupyter-widgets/controls",
            "_view_module_version": "1.5.0",
            "_view_name": "HBoxView",
            "box_style": "",
            "children": [
              "IPY_MODEL_311b06a5ac43419bbe4141c42d5f4ed1",
              "IPY_MODEL_c507a8a76d8944e9b7c9f49dfcb10448"
            ],
            "layout": "IPY_MODEL_02babd481daa4a5da26186433dc13565"
          }
        },
        "311b06a5ac43419bbe4141c42d5f4ed1": {
          "model_module": "@jupyter-widgets/controls",
          "model_name": "FloatProgressModel",
          "state": {
            "_dom_classes": [],
            "_model_module": "@jupyter-widgets/controls",
            "_model_module_version": "1.5.0",
            "_model_name": "FloatProgressModel",
            "_view_count": null,
            "_view_module": "@jupyter-widgets/controls",
            "_view_module_version": "1.5.0",
            "_view_name": "ProgressView",
            "bar_style": "",
            "description": "Batches:   0%",
            "description_tooltip": null,
            "layout": "IPY_MODEL_f6e1fb91e56e435fb057867aedb44477",
            "max": 143602,
            "min": 0,
            "orientation": "horizontal",
            "style": "IPY_MODEL_23226e1498d345d0bc7eb94db0d4a4e6",
            "value": 5
          }
        },
        "c507a8a76d8944e9b7c9f49dfcb10448": {
          "model_module": "@jupyter-widgets/controls",
          "model_name": "HTMLModel",
          "state": {
            "_dom_classes": [],
            "_model_module": "@jupyter-widgets/controls",
            "_model_module_version": "1.5.0",
            "_model_name": "HTMLModel",
            "_view_count": null,
            "_view_module": "@jupyter-widgets/controls",
            "_view_module_version": "1.5.0",
            "_view_name": "HTMLView",
            "description": "",
            "description_tooltip": null,
            "layout": "IPY_MODEL_59b56c2237e54402913c4a8071c6be54",
            "placeholder": "​",
            "style": "IPY_MODEL_41b583a8f7ce4e1192e2eea905047092",
            "value": " 5/143602 [00:00&lt;5:26:38,  7.33it/s]"
          }
        },
        "02babd481daa4a5da26186433dc13565": {
          "model_module": "@jupyter-widgets/base",
          "model_name": "LayoutModel",
          "state": {
            "_model_module": "@jupyter-widgets/base",
            "_model_module_version": "1.2.0",
            "_model_name": "LayoutModel",
            "_view_count": null,
            "_view_module": "@jupyter-widgets/base",
            "_view_module_version": "1.2.0",
            "_view_name": "LayoutView",
            "align_content": null,
            "align_items": null,
            "align_self": null,
            "border": null,
            "bottom": null,
            "display": null,
            "flex": null,
            "flex_flow": null,
            "grid_area": null,
            "grid_auto_columns": null,
            "grid_auto_flow": null,
            "grid_auto_rows": null,
            "grid_column": null,
            "grid_gap": null,
            "grid_row": null,
            "grid_template_areas": null,
            "grid_template_columns": null,
            "grid_template_rows": null,
            "height": null,
            "justify_content": null,
            "justify_items": null,
            "left": null,
            "margin": null,
            "max_height": null,
            "max_width": null,
            "min_height": null,
            "min_width": null,
            "object_fit": null,
            "object_position": null,
            "order": null,
            "overflow": null,
            "overflow_x": null,
            "overflow_y": null,
            "padding": null,
            "right": null,
            "top": null,
            "visibility": null,
            "width": null
          }
        },
        "f6e1fb91e56e435fb057867aedb44477": {
          "model_module": "@jupyter-widgets/base",
          "model_name": "LayoutModel",
          "state": {
            "_model_module": "@jupyter-widgets/base",
            "_model_module_version": "1.2.0",
            "_model_name": "LayoutModel",
            "_view_count": null,
            "_view_module": "@jupyter-widgets/base",
            "_view_module_version": "1.2.0",
            "_view_name": "LayoutView",
            "align_content": null,
            "align_items": null,
            "align_self": null,
            "border": null,
            "bottom": null,
            "display": null,
            "flex": null,
            "flex_flow": null,
            "grid_area": null,
            "grid_auto_columns": null,
            "grid_auto_flow": null,
            "grid_auto_rows": null,
            "grid_column": null,
            "grid_gap": null,
            "grid_row": null,
            "grid_template_areas": null,
            "grid_template_columns": null,
            "grid_template_rows": null,
            "height": null,
            "justify_content": null,
            "justify_items": null,
            "left": null,
            "margin": null,
            "max_height": null,
            "max_width": null,
            "min_height": null,
            "min_width": null,
            "object_fit": null,
            "object_position": null,
            "order": null,
            "overflow": null,
            "overflow_x": null,
            "overflow_y": null,
            "padding": null,
            "right": null,
            "top": null,
            "visibility": null,
            "width": null
          }
        },
        "23226e1498d345d0bc7eb94db0d4a4e6": {
          "model_module": "@jupyter-widgets/controls",
          "model_name": "ProgressStyleModel",
          "state": {
            "_model_module": "@jupyter-widgets/controls",
            "_model_module_version": "1.5.0",
            "_model_name": "ProgressStyleModel",
            "_view_count": null,
            "_view_module": "@jupyter-widgets/base",
            "_view_module_version": "1.2.0",
            "_view_name": "StyleView",
            "bar_color": null,
            "description_width": "initial"
          }
        },
        "59b56c2237e54402913c4a8071c6be54": {
          "model_module": "@jupyter-widgets/base",
          "model_name": "LayoutModel",
          "state": {
            "_model_module": "@jupyter-widgets/base",
            "_model_module_version": "1.2.0",
            "_model_name": "LayoutModel",
            "_view_count": null,
            "_view_module": "@jupyter-widgets/base",
            "_view_module_version": "1.2.0",
            "_view_name": "LayoutView",
            "align_content": null,
            "align_items": null,
            "align_self": null,
            "border": null,
            "bottom": null,
            "display": null,
            "flex": null,
            "flex_flow": null,
            "grid_area": null,
            "grid_auto_columns": null,
            "grid_auto_flow": null,
            "grid_auto_rows": null,
            "grid_column": null,
            "grid_gap": null,
            "grid_row": null,
            "grid_template_areas": null,
            "grid_template_columns": null,
            "grid_template_rows": null,
            "height": null,
            "justify_content": null,
            "justify_items": null,
            "left": null,
            "margin": null,
            "max_height": null,
            "max_width": null,
            "min_height": null,
            "min_width": null,
            "object_fit": null,
            "object_position": null,
            "order": null,
            "overflow": null,
            "overflow_x": null,
            "overflow_y": null,
            "padding": null,
            "right": null,
            "top": null,
            "visibility": null,
            "width": null
          }
        },
        "41b583a8f7ce4e1192e2eea905047092": {
          "model_module": "@jupyter-widgets/controls",
          "model_name": "DescriptionStyleModel",
          "state": {
            "_model_module": "@jupyter-widgets/controls",
            "_model_module_version": "1.5.0",
            "_model_name": "DescriptionStyleModel",
            "_view_count": null,
            "_view_module": "@jupyter-widgets/base",
            "_view_module_version": "1.2.0",
            "_view_name": "StyleView",
            "description_width": ""
          }
        }
      }
    }
  },
  "cells": [
    {
      "cell_type": "markdown",
      "metadata": {
        "id": "AXHLDxJdRzBi"
      },
      "source": [
        "# BERTopic - Tutorial\n",
        "We start with installing bertopic from pypi before preparing the data. \n",
        "\n",
        "**NOTE**: Make sure to select a GPU runtime. Otherwise, the model can take quite some time to create the document embeddings!"
      ]
    },
    {
      "cell_type": "code",
      "metadata": {
        "colab": {
          "base_uri": "https://localhost:8080/"
        },
        "id": "xcpEWCMMIOoo",
        "outputId": "658866d7-5ae0-417f-dcc8-750404c07f48"
      },
      "source": [
        "# need this code snippet in each notebook to mount the google drive\n",
        "from google.colab import drive  \n",
        "drive.mount('/content/gdrive/')"
      ],
      "execution_count": null,
      "outputs": [
        {
          "output_type": "stream",
          "text": [
            "Drive already mounted at /content/gdrive/; to attempt to forcibly remount, call drive.mount(\"/content/gdrive/\", force_remount=True).\n"
          ],
          "name": "stdout"
        }
      ]
    },
    {
      "cell_type": "code",
      "metadata": {
        "id": "SNa-KtKDRnus"
      },
      "source": [
        "!pip install bertopic"
      ],
      "execution_count": null,
      "outputs": []
    },
    {
      "cell_type": "markdown",
      "metadata": {
        "id": "Y3VGFZ1USMTu"
      },
      "source": [
        "# Prepare data\n",
        "For this example, we use the famous 20 Newsgroups dataset which contains roughly 18000 newsgroups posts on 20 topics."
      ]
    },
    {
      "cell_type": "code",
      "metadata": {
        "id": "JJij3WP6SEQD"
      },
      "source": [
        "import pandas as pd\n",
        "import numpy as np\n",
        "import os\n",
        "from matplotlib import pyplot as plt\n",
        "from bertopic import BERTopic\n",
        "from sklearn.datasets import fetch_20newsgroups\n",
        "from keras.utils import to_categorical\n",
        "from keras.callbacks import ModelCheckpoint\n",
        "from keras.models import Sequential, load_model, Model\n",
        "from keras.layers import Input, BatchNormalization\n",
        "from keras.layers import Dense, LSTM, GlobalAveragePooling1D, GlobalAveragePooling2D\n",
        "from keras.layers import Activation, Flatten, Dropout, BatchNormalization\n",
        "from keras.layers import Conv2D, MaxPooling2D, GlobalMaxPooling2D\n",
        "from keras.callbacks import EarlyStopping, ReduceLROnPlateau\n",
        "from keras.layers.advanced_activations import PReLU, LeakyReLU\n",
        "from sklearn.metrics import confusion_matrix\n",
        "from sklearn.metrics import roc_curve, auc\n",
        "import pickle\n",
        "from sklearn.externals import joblib\n",
        " \n",
        "#docs = fetch_20newsgroups(subset='train')['data'] # docs is a flat list with each doc as an item in the list"
      ],
      "execution_count": null,
      "outputs": []
    },
    {
      "cell_type": "code",
      "metadata": {
        "colab": {
          "base_uri": "https://localhost:8080/"
        },
        "id": "xqUuH3UzISwW",
        "outputId": "1e2de929-7400-49d2-b525-e8b0cb6d5b14"
      },
      "source": [
        "os.chdir(\"/content/gdrive/My Drive/20191101-2020-1031-alerts/python\")\n",
        "!ls"
      ],
      "execution_count": null,
      "outputs": [
        {
          "output_type": "stream",
          "text": [
            " autoencoder_classifier.h5  'processminer-rare-event-mts - data.csv'\n",
            " BerTopic.py\t\t     __pycache__\n",
            " embeddings2.joblib\t     topic-model-example\n",
            " embeddings2.pkl\t     training.pdf\n",
            " embeddings4.joblib\t     weights.best.hdf5\n",
            " embeddings.pkl\t\t     y_encoded2.joblib\n",
            " frame.csv\t\t     y_encoded4.joblib\n",
            " logs\t\t\t     y_encoded4_multi.joblib\n",
            " Netflow_NN.py\t\t     y_encoded.joblib\n",
            " process_alerts.py\n"
          ],
          "name": "stdout"
        }
      ]
    },
    {
      "cell_type": "code",
      "metadata": {
        "colab": {
          "base_uri": "https://localhost:8080/"
        },
        "id": "J5b94L2lIlN9",
        "outputId": "cd59996d-a79f-40c2-8330-73a827bd171c"
      },
      "source": [
        "# break large file into chunks and process each chunk\n",
        "fields =['message','labelName']\n",
        "for df_alerts in pd.read_csv(\"frame.csv\", iterator=True, chunksize=15000000,usecols=fields,low_memory=False):\n",
        "    break \n",
        "df_alerts.shape"
      ],
      "execution_count": null,
      "outputs": [
        {
          "output_type": "execute_result",
          "data": {
            "text/plain": [
              "(15000000, 2)"
            ]
          },
          "metadata": {
            "tags": []
          },
          "execution_count": 6
        }
      ]
    },
    {
      "cell_type": "code",
      "metadata": {
        "colab": {
          "base_uri": "https://localhost:8080/"
        },
        "id": "lSYM3d2Nh2UM",
        "outputId": "5d295ba3-e11b-4a93-fa0b-807a98257df6"
      },
      "source": [
        "df=pd.read_csv(\"../2019-11-02-alerts.csv\")"
      ],
      "execution_count": null,
      "outputs": [
        {
          "output_type": "stream",
          "text": [
            "/usr/local/lib/python3.6/dist-packages/IPython/core/interactiveshell.py:2718: DtypeWarning:\n",
            "\n",
            "Columns (13,14,15,17) have mixed types.Specify dtype option on import or set low_memory=False.\n",
            "\n"
          ],
          "name": "stderr"
        }
      ]
    },
    {
      "cell_type": "code",
      "metadata": {
        "colab": {
          "base_uri": "https://localhost:8080/"
        },
        "id": "VzKCC4Acidmj",
        "outputId": "287c0134-68d9-4f8c-eedd-6e6e9a575cae"
      },
      "source": [
        "list(df.columns)"
      ],
      "execution_count": null,
      "outputs": [
        {
          "output_type": "execute_result",
          "data": {
            "text/plain": [
              "['tenant',\n",
              " 'alertDate',\n",
              " 'uuid',\n",
              " 'alert_type',\n",
              " 'severity',\n",
              " 'creator',\n",
              " 'message',\n",
              " 'eventTimestamp',\n",
              " 'ingestDelay',\n",
              " 'alertTimestamp',\n",
              " 'insertDelay',\n",
              " 'insertTimestamp',\n",
              " 'labelDelay',\n",
              " 'labelTimestamp',\n",
              " 'labelName',\n",
              " 'labelUser',\n",
              " 'labelBulk',\n",
              " 'investigateId']"
            ]
          },
          "metadata": {
            "tags": []
          },
          "execution_count": 8
        }
      ]
    },
    {
      "cell_type": "code",
      "metadata": {
        "colab": {
          "base_uri": "https://localhost:8080/",
          "height": 204
        },
        "id": "3eK063x2IvQr",
        "outputId": "aac16bb0-fb12-4db7-e877-68c698d4378c"
      },
      "source": [
        "df_alerts.columns =['text','target']\n",
        "df_alerts = df_alerts.dropna()\n",
        "df_alerts.head()"
      ],
      "execution_count": null,
      "outputs": [
        {
          "output_type": "execute_result",
          "data": {
            "text/html": [
              "<div>\n",
              "<style scoped>\n",
              "    .dataframe tbody tr th:only-of-type {\n",
              "        vertical-align: middle;\n",
              "    }\n",
              "\n",
              "    .dataframe tbody tr th {\n",
              "        vertical-align: top;\n",
              "    }\n",
              "\n",
              "    .dataframe thead th {\n",
              "        text-align: right;\n",
              "    }\n",
              "</style>\n",
              "<table border=\"1\" class=\"dataframe\">\n",
              "  <thead>\n",
              "    <tr style=\"text-align: right;\">\n",
              "      <th></th>\n",
              "      <th>text</th>\n",
              "      <th>target</th>\n",
              "    </tr>\n",
              "  </thead>\n",
              "  <tbody>\n",
              "    <tr>\n",
              "      <th>0</th>\n",
              "      <td>53285 VID14156 Suspicious powershell.exe in HT...</td>\n",
              "      <td>true positive: benign</td>\n",
              "    </tr>\n",
              "    <tr>\n",
              "      <th>1</th>\n",
              "      <td>50192 VID59478 SSLv3 Large Heartbeat Content D...</td>\n",
              "      <td>true positive: benign</td>\n",
              "    </tr>\n",
              "    <tr>\n",
              "      <th>6</th>\n",
              "      <td>A process using Force Data Execution Preventio...</td>\n",
              "      <td>true positive: benign</td>\n",
              "    </tr>\n",
              "    <tr>\n",
              "      <th>10</th>\n",
              "      <td>A process using Force Data Execution Preventio...</td>\n",
              "      <td>true positive: benign</td>\n",
              "    </tr>\n",
              "    <tr>\n",
              "      <th>11</th>\n",
              "      <td>A process using Force Data Execution Preventio...</td>\n",
              "      <td>false positive</td>\n",
              "    </tr>\n",
              "  </tbody>\n",
              "</table>\n",
              "</div>"
            ],
            "text/plain": [
              "                                                 text                 target\n",
              "0   53285 VID14156 Suspicious powershell.exe in HT...  true positive: benign\n",
              "1   50192 VID59478 SSLv3 Large Heartbeat Content D...  true positive: benign\n",
              "6   A process using Force Data Execution Preventio...  true positive: benign\n",
              "10  A process using Force Data Execution Preventio...  true positive: benign\n",
              "11  A process using Force Data Execution Preventio...         false positive"
            ]
          },
          "metadata": {
            "tags": []
          },
          "execution_count": 9
        }
      ]
    },
    {
      "cell_type": "code",
      "metadata": {
        "colab": {
          "base_uri": "https://localhost:8080/"
        },
        "id": "ezzundr0J4LS",
        "outputId": "0f3d5971-022a-4da0-e510-3f6106bda065"
      },
      "source": [
        "docs = df_alerts['text'].tolist()\n",
        "len(docs)"
      ],
      "execution_count": null,
      "outputs": [
        {
          "output_type": "execute_result",
          "data": {
            "text/plain": [
              "4595254"
            ]
          },
          "metadata": {
            "tags": []
          },
          "execution_count": 10
        }
      ]
    },
    {
      "cell_type": "code",
      "metadata": {
        "id": "5a0PhMEbNkHH"
      },
      "source": [
        "# Python program to Remove all  digits from a list of string \n",
        "import re \n",
        "docs = df_alerts['text'].tolist()  \n",
        "\n",
        "def remove(list):\n",
        "    try: \n",
        "       pattern = '[0-9]'\n",
        "       list = [re.sub(pattern, '', i) for i in list] \n",
        "       pattern = 'VID'\n",
        "       list = [re.sub(pattern, '', i) for i in list]\n",
        "    except:\n",
        "       return list \n",
        "    return list\n",
        "\n",
        "# now purge digits from alerts\n",
        "docs = remove(docs)\n",
        "df_alerts.text = docs"
      ],
      "execution_count": null,
      "outputs": []
    },
    {
      "cell_type": "code",
      "metadata": {
        "colab": {
          "base_uri": "https://localhost:8080/"
        },
        "id": "LJYeWTMXKiC8",
        "outputId": "6223ce3c-0815-49b7-fddb-4f72bf58e54f"
      },
      "source": [
        "target = df_alerts['target'].tolist()\n",
        "set(target)"
      ],
      "execution_count": null,
      "outputs": [
        {
          "output_type": "execute_result",
          "data": {
            "text/plain": [
              "{'false positive',\n",
              " 'false-positive',\n",
              " 'not actionable',\n",
              " 'not-actionable',\n",
              " 'true positive',\n",
              " 'true positive: benign',\n",
              " 'true positive: malicious',\n",
              " 'true-positive-benign',\n",
              " 'true-positive-malicious'}"
            ]
          },
          "metadata": {
            "tags": []
          },
          "execution_count": 12
        }
      ]
    },
    {
      "cell_type": "code",
      "metadata": {
        "id": "d07PrHcHtILl"
      },
      "source": [
        "df_alerts = df_alerts[df_alerts['target'] != 'false positive']\n",
        "df_alerts = df_alerts[df_alerts['target'] != 'false-positive']\n",
        "df_alerts = df_alerts[df_alerts['target'] != 'not actionable']\n",
        "df_alerts = df_alerts[df_alerts['target'] != 'not-actionable']\n",
        "df_alerts = df_alerts[df_alerts['target'] != 'true positive']"
      ],
      "execution_count": null,
      "outputs": []
    },
    {
      "cell_type": "code",
      "metadata": {
        "colab": {
          "base_uri": "https://localhost:8080/"
        },
        "id": "CZRO69G0u8m1",
        "outputId": "5a59bc79-932b-4453-f889-30bcf0482235"
      },
      "source": [
        "set(df_alerts.target)"
      ],
      "execution_count": null,
      "outputs": [
        {
          "output_type": "execute_result",
          "data": {
            "text/plain": [
              "{'true positive: benign',\n",
              " 'true positive: malicious',\n",
              " 'true-positive-benign',\n",
              " 'true-positive-malicious'}"
            ]
          },
          "metadata": {
            "tags": []
          },
          "execution_count": 14
        }
      ]
    },
    {
      "cell_type": "code",
      "metadata": {
        "colab": {
          "base_uri": "https://localhost:8080/"
        },
        "id": "v1ixB5bbtpdt",
        "outputId": "6d88d61c-cfe2-4e95-b2b4-ce1422a404e0"
      },
      "source": [
        "# Fraction of malicious alerts to labelled corpus\n",
        "sum('malicious' in s for s in target)/len(target)"
      ],
      "execution_count": null,
      "outputs": [
        {
          "output_type": "execute_result",
          "data": {
            "text/plain": [
              "0.005568571399970491"
            ]
          },
          "metadata": {
            "tags": []
          },
          "execution_count": 15
        }
      ]
    },
    {
      "cell_type": "code",
      "metadata": {
        "id": "R0EGrO6eRlQ-"
      },
      "source": [
        "# map targets to numberic\n",
        "def binary_classes(t):\n",
        "  if t == 'true positive: malicious' or t == 'true-positive-malicious':\n",
        "     return 1\n",
        "  #elif t == 'true positive: malicious' or t == 'true-positive-malicious':\n",
        "  #  return 1\n",
        "  else:\n",
        "    return 0\n",
        "\n",
        "def multi_classes(t):\n",
        "   if t == 'false positive' or t == 'false-positive':\n",
        "     return 0\n",
        "   elif t == 'true positive: benign' or t == 'true-positive-benign':\n",
        "     return 1\n",
        "   elif t == 'not actionable' or t == 'not-actionable':\n",
        "     return 2\n",
        "   else:  #t == 'true positive: malicious' or t == 'true-positive-malicious':\n",
        "    return 3"
      ],
      "execution_count": null,
      "outputs": []
    },
    {
      "cell_type": "code",
      "metadata": {
        "colab": {
          "base_uri": "https://localhost:8080/"
        },
        "id": "8p9kR1LmWV-x",
        "outputId": "d34ce175-1125-41f1-b530-557d2dad6829"
      },
      "source": [
        "Class = 2    # flag for choosing between binary =1/multiclass=0 classifier\n",
        "if Class == 2:\n",
        "  y = [binary_classes(x) for x in target]\n",
        "else:\n",
        "  y = [multi_classes(x) for x in target]\n",
        "\n",
        "from sklearn.preprocessing import OneHotEncoder\n",
        "print('Vectorizing Y labels...')\n",
        "y=np.array(y)\n",
        "y_encoded = to_categorical(y)\n",
        "# invert encoding\n",
        "#inverted = argmax(encoded[0])\n",
        "#print(inverted)"
      ],
      "execution_count": null,
      "outputs": [
        {
          "output_type": "stream",
          "text": [
            "Vectorizing Y labels...\n"
          ],
          "name": "stdout"
        }
      ]
    },
    {
      "cell_type": "code",
      "metadata": {
        "colab": {
          "base_uri": "https://localhost:8080/"
        },
        "id": "xtk4kodLuszD",
        "outputId": "6eb056d7-41d9-4800-d094-b86000f93614"
      },
      "source": [
        "y_encoded"
      ],
      "execution_count": null,
      "outputs": [
        {
          "output_type": "execute_result",
          "data": {
            "text/plain": [
              "array([[1., 0.],\n",
              "       [1., 0.],\n",
              "       [1., 0.],\n",
              "       ...,\n",
              "       [0., 1.],\n",
              "       [0., 1.],\n",
              "       [0., 1.]], dtype=float32)"
            ]
          },
          "metadata": {
            "tags": []
          },
          "execution_count": 18
        }
      ]
    },
    {
      "cell_type": "code",
      "metadata": {
        "colab": {
          "base_uri": "https://localhost:8080/"
        },
        "id": "mKuB5aIBjpXF",
        "outputId": "bfda3e9e-2f76-49f0-f818-ec3833be5d75"
      },
      "source": [
        "len(set(y))"
      ],
      "execution_count": null,
      "outputs": [
        {
          "output_type": "execute_result",
          "data": {
            "text/plain": [
              "2"
            ]
          },
          "metadata": {
            "tags": []
          },
          "execution_count": 19
        }
      ]
    },
    {
      "cell_type": "code",
      "metadata": {
        "colab": {
          "background_save": true,
          "base_uri": "https://localhost:8080/",
          "height": 66,
          "referenced_widgets": [
            "9c8b777e74354830a18af9f099148b4f",
            "311b06a5ac43419bbe4141c42d5f4ed1",
            "c507a8a76d8944e9b7c9f49dfcb10448",
            "02babd481daa4a5da26186433dc13565",
            "f6e1fb91e56e435fb057867aedb44477",
            "23226e1498d345d0bc7eb94db0d4a4e6",
            "59b56c2237e54402913c4a8071c6be54",
            "41b583a8f7ce4e1192e2eea905047092"
          ]
        },
        "id": "Ufy1QtZjF5XD",
        "outputId": "c92135ff-d4d4-44a6-891d-d68492b1c223"
      },
      "source": [
        "# https://www.analyticsvidhya.com/blog/2020/08/top-4-sentence-embedding-techniques-using-python/\n",
        "# https://www.sbert.net/\n",
        "# https://stackabuse.com/reading-and-writing-lists-to-a-file-in-python/\n",
        "run_again = 1\n",
        "if os.path.exists(\"embeddings.pkl\") and run_again == 0:\n",
        "   pkl_file = open('embeddings.pkl', 'rb')\n",
        "   embeddings = pickle.load(pkl_file)\n",
        "else: \n",
        "   from sentence_transformers import SentenceTransformer\n",
        "   model = SentenceTransformer('distilbert-base-nli-mean-tokens')\n",
        "   embeddings = model.encode(docs, show_progress_bar=True)\n",
        "   joblib.dump(embeddings, 'embeddings2.joblib')\n",
        "   joblib.dump(y_encoded, 'y_encoded2.joblib')"
      ],
      "execution_count": null,
      "outputs": [
        {
          "output_type": "stream",
          "text": [
            "100%|██████████| 245M/245M [00:19<00:00, 12.4MB/s]\n"
          ],
          "name": "stderr"
        },
        {
          "output_type": "display_data",
          "data": {
            "application/vnd.jupyter.widget-view+json": {
              "model_id": "9c8b777e74354830a18af9f099148b4f",
              "version_major": 2,
              "version_minor": 0
            },
            "text/plain": [
              "HBox(children=(FloatProgress(value=0.0, description='Batches', max=143602.0, style=ProgressStyle(description_w…"
            ]
          },
          "metadata": {
            "tags": []
          }
        },
        {
          "output_type": "stream",
          "text": [
            "Buffered data was truncated after reaching the output size limit."
          ],
          "name": "stdout"
        }
      ]
    },
    {
      "cell_type": "markdown",
      "metadata": {
        "id": "sEvGAzXKgsY7"
      },
      "source": [
        "**Read pre-trained Bert embeddings from disk for the alerts**"
      ]
    },
    {
      "cell_type": "code",
      "metadata": {
        "id": "3q057TWc9UEm"
      },
      "source": [
        "embeddings = joblib.load(\"embeddings4.joblib\")\n",
        "y_encoded = joblib.load(\"y_encoded4_multi.joblib\")"
      ],
      "execution_count": null,
      "outputs": []
    },
    {
      "cell_type": "code",
      "metadata": {
        "colab": {
          "base_uri": "https://localhost:8080/"
        },
        "id": "YHnoYWsIWVoI",
        "outputId": "6fef48ce-3836-46b2-fdcc-957b28cdb5cd"
      },
      "source": [
        "y_encoded"
      ],
      "execution_count": null,
      "outputs": [
        {
          "output_type": "execute_result",
          "data": {
            "text/plain": [
              "array([[0., 1., 0., 0.],\n",
              "       [0., 1., 0., 0.],\n",
              "       [0., 1., 0., 0.],\n",
              "       ...,\n",
              "       [1., 0., 0., 0.],\n",
              "       [1., 0., 0., 0.],\n",
              "       [1., 0., 0., 0.]], dtype=float32)"
            ]
          },
          "metadata": {
            "tags": []
          },
          "execution_count": 68
        }
      ]
    },
    {
      "cell_type": "code",
      "metadata": {
        "id": "FT13bmUhX6gv"
      },
      "source": [
        "y= np.argmax(y_encoded, axis=1)"
      ],
      "execution_count": null,
      "outputs": []
    },
    {
      "cell_type": "code",
      "metadata": {
        "id": "zLfQr-M9QSBl"
      },
      "source": [
        "df = pd.DataFrame() \n",
        "df['target'] = y"
      ],
      "execution_count": null,
      "outputs": []
    },
    {
      "cell_type": "markdown",
      "metadata": {
        "id": "j1FouyNFPGZL"
      },
      "source": [
        "**Analysis and Display with PCA**"
      ]
    },
    {
      "cell_type": "code",
      "metadata": {
        "id": "co4LTksRPC5F"
      },
      "source": [
        "from sklearn.decomposition import PCA\n",
        "pca = PCA(n_components=2)\n",
        "principalComponents = pca.fit_transform(embeddings)\n",
        "principalDf = pd.DataFrame(data = principalComponents\n",
        "             , columns = ['principal component 1', 'principal component 2'])\n",
        "del embeddings   # free up memory\n",
        "df = pd.DataFrame() \n",
        "df['target'] = y  \n",
        "finalDf = pd.concat([principalDf, df[['target']]], axis = 1)"
      ],
      "execution_count": null,
      "outputs": []
    },
    {
      "cell_type": "code",
      "metadata": {
        "colab": {
          "base_uri": "https://localhost:8080/",
          "height": 204
        },
        "id": "1Oe9XZokTi6A",
        "outputId": "1755b98a-53cc-40c5-d670-f5d8c553e274"
      },
      "source": [
        "finalDf.head()"
      ],
      "execution_count": null,
      "outputs": [
        {
          "output_type": "execute_result",
          "data": {
            "text/html": [
              "<div>\n",
              "<style scoped>\n",
              "    .dataframe tbody tr th:only-of-type {\n",
              "        vertical-align: middle;\n",
              "    }\n",
              "\n",
              "    .dataframe tbody tr th {\n",
              "        vertical-align: top;\n",
              "    }\n",
              "\n",
              "    .dataframe thead th {\n",
              "        text-align: right;\n",
              "    }\n",
              "</style>\n",
              "<table border=\"1\" class=\"dataframe\">\n",
              "  <thead>\n",
              "    <tr style=\"text-align: right;\">\n",
              "      <th></th>\n",
              "      <th>principal component 1</th>\n",
              "      <th>principal component 2</th>\n",
              "      <th>target</th>\n",
              "    </tr>\n",
              "  </thead>\n",
              "  <tbody>\n",
              "    <tr>\n",
              "      <th>0</th>\n",
              "      <td>-2.888475</td>\n",
              "      <td>-2.246072</td>\n",
              "      <td>1</td>\n",
              "    </tr>\n",
              "    <tr>\n",
              "      <th>1</th>\n",
              "      <td>-5.133780</td>\n",
              "      <td>0.156976</td>\n",
              "      <td>1</td>\n",
              "    </tr>\n",
              "    <tr>\n",
              "      <th>2</th>\n",
              "      <td>1.476650</td>\n",
              "      <td>-3.066623</td>\n",
              "      <td>1</td>\n",
              "    </tr>\n",
              "    <tr>\n",
              "      <th>3</th>\n",
              "      <td>1.476649</td>\n",
              "      <td>-3.066445</td>\n",
              "      <td>1</td>\n",
              "    </tr>\n",
              "    <tr>\n",
              "      <th>4</th>\n",
              "      <td>1.476648</td>\n",
              "      <td>-3.066426</td>\n",
              "      <td>0</td>\n",
              "    </tr>\n",
              "  </tbody>\n",
              "</table>\n",
              "</div>"
            ],
            "text/plain": [
              "   principal component 1  principal component 2  target\n",
              "0              -2.888475              -2.246072       1\n",
              "1              -5.133780               0.156976       1\n",
              "2               1.476650              -3.066623       1\n",
              "3               1.476649              -3.066445       1\n",
              "4               1.476648              -3.066426       0"
            ]
          },
          "metadata": {
            "tags": []
          },
          "execution_count": 28
        }
      ]
    },
    {
      "cell_type": "code",
      "metadata": {
        "colab": {
          "base_uri": "https://localhost:8080/",
          "height": 523
        },
        "id": "Pldcvr1cTR-6",
        "outputId": "a7a61d33-3927-4324-9dc0-748114dbff30"
      },
      "source": [
        "fig = plt.figure(figsize = (8,8))\n",
        "ax = fig.add_subplot(1,1,1) \n",
        "ax.set_xlabel('Principal Component 1', fontsize = 15)\n",
        "ax.set_ylabel('Principal Component 2', fontsize = 15)\n",
        "ax.set_title('2 component PCA', fontsize = 20)\n",
        "targets = [0,1,2,3] #['benign', 'malicious']\n",
        "colors = ['r',  'b', 'g', 'k']\n",
        "for target, color in zip(targets,colors):\n",
        "    indicesToKeep = finalDf['target'] == target\n",
        "    ax.scatter(finalDf.loc[indicesToKeep, 'principal component 1']\n",
        "               , finalDf.loc[indicesToKeep, 'principal component 2']\n",
        "               , c = color\n",
        "               , s = 50)\n",
        "ax.legend(targets)\n",
        "ax.grid()"
      ],
      "execution_count": null,
      "outputs": [
        {
          "output_type": "display_data",
          "data": {
            "image/png": "[encoded data removed]",
            "text/plain": [
              "<Figure size 576x576 with 1 Axes>"
            ]
          },
          "metadata": {
            "tags": []
          }
        }
      ]
    },
    {
      "cell_type": "markdown",
      "metadata": {
        "id": "ubUP2wngfM2H"
      },
      "source": [
        "**Two Classes** **bold text**"
      ]
    },
    {
      "cell_type": "code",
      "metadata": {
        "id": "BBfU0Hgfe2Eq"
      },
      "source": [
        "y_encoded = joblib.load(\"y_encoded4.joblib\")\n",
        "y= np.argmax(y_encoded, axis=1)\n",
        "df['target'] = y  \n",
        "finalDf = pd.concat([principalDf, df[['target']]], axis = 1)"
      ],
      "execution_count": null,
      "outputs": []
    },
    {
      "cell_type": "code",
      "metadata": {
        "colab": {
          "base_uri": "https://localhost:8080/",
          "height": 523
        },
        "id": "NSzg3fi2fzPS",
        "outputId": "112ecceb-5846-425d-e584-d6f198ecf171"
      },
      "source": [
        "fig = plt.figure(figsize = (8,8))\n",
        "ax = fig.add_subplot(1,1,1) \n",
        "ax.set_xlabel('Principal Component 1', fontsize = 15)\n",
        "ax.set_ylabel('Principal Component 2', fontsize = 15)\n",
        "ax.set_title('2 component PCA', fontsize = 20)\n",
        "targets = [0,1] #['benign', 'malicious']\n",
        "colors = ['r',  'b']\n",
        "for target, color in zip(targets,colors):\n",
        "    indicesToKeep = finalDf['target'] == target\n",
        "    ax.scatter(finalDf.loc[indicesToKeep, 'principal component 1']\n",
        "               , finalDf.loc[indicesToKeep, 'principal component 2']\n",
        "               , c = color\n",
        "               , s = 50)\n",
        "ax.legend(targets)\n",
        "ax.grid()"
      ],
      "execution_count": null,
      "outputs": [
        {
          "output_type": "display_data",
          "data": {
            "image/png": "[encoded data removed]",
            "text/plain": [
              "<Figure size 576x576 with 1 Axes>"
            ]
          },
          "metadata": {
            "tags": []
          }
        }
      ]
    },
    {
      "cell_type": "markdown",
      "metadata": {
        "id": "nuBn-eZhZzft"
      },
      "source": [
        "# **Classifier - DATA IS TOO IMBALANCED FOR THIS TO WORK**\n",
        "Before applying the classifier, we first need to lower the dimensionality of the embeddings as many clustering algorithms handle high dimensionality poorly.\n",
        "\n",
        "**UMAP**\n",
        "\n",
        "Out of the few dimensionality reduction algorithms, UMAP is arguably the best performing as it keeps a significant portion of the high-dimensional local structure in lower dimensionality.\n",
        "Install the package with pip install umap-learn before we lower the dimensionality of the document embeddings. We reduce the dimensionality to 5 while keeping the size of the local neighborhood at 15. You can play around with these values to optimize for your topic creation. Note that a too low dimensionality results in a loss of information while a too high dimensionality results in poorer clustering results."
      ]
    },
    {
      "cell_type": "code",
      "metadata": {
        "id": "17y8UGPmahjd"
      },
      "source": [
        "# crashing...\n",
        "#import umap\n",
        "#umap_embeddings = umap.UMAP(n_neighbors=15, \n",
        "#                            n_components=5, \n",
        "#                           metric='cosine').fit_transform(embeddings)"
      ],
      "execution_count": null,
      "outputs": []
    },
    {
      "cell_type": "code",
      "metadata": {
        "id": "R-NgLHavjTPA"
      },
      "source": [
        "from sklearn.model_selection import train_test_split\n",
        "embeddings = joblib.load(\"embeddings2.joblib\")\n",
        "y_encoded = joblib.load(\"y_encoded2.joblib\")\n",
        "X = np.array(embeddings)\n",
        "y = y_encoded\n",
        "X_train, X_test, y_train, y_test = train_test_split(X, y, test_size=0.2, random_state=np.random.seed(7))\n",
        "input_dim = X_train.shape[1]\n",
        "n_classes = y.shape[1]"
      ],
      "execution_count": null,
      "outputs": []
    },
    {
      "cell_type": "code",
      "metadata": {
        "colab": {
          "base_uri": "https://localhost:8080/"
        },
        "id": "HCAfKHQ57Ztp",
        "outputId": "5504fb03-6dbf-4a54-94a8-657ab8c8ef49"
      },
      "source": [
        "list(np.argmax(y_train, axis=1)).count(1)"
      ],
      "execution_count": null,
      "outputs": [
        {
          "output_type": "execute_result",
          "data": {
            "text/plain": [
              "8433"
            ]
          },
          "metadata": {
            "tags": []
          },
          "execution_count": 82
        }
      ]
    },
    {
      "cell_type": "code",
      "metadata": {
        "colab": {
          "base_uri": "https://localhost:8080/"
        },
        "id": "EMx0uEzU0ywc",
        "outputId": "99cbe72d-e701-4136-ece9-cb631fc9f818"
      },
      "source": [
        "from sklearn.utils import resample\n",
        "# Separate majority and minority classes\n",
        "df = pd.DataFrame(X_train)\n",
        "y = np.argmax(y_train, axis=1)\n",
        "df['balance'] = y\n",
        "\n",
        "df_majority = df[df.balance==0]\n",
        "df_minority = df[df.balance==1]\n",
        " \n",
        "# Downsample majority class\n",
        "df_majority_downsampled = resample(df_majority, \n",
        "                                 replace=False,    # sample without replacement\n",
        "                                 n_samples=8433,     # to match minority class\n",
        "                                 random_state=123) # reproducible results\n",
        " \n",
        "# Combine minority class with downsampled majority class\n",
        "df_downsampled = pd.concat([df_majority_downsampled, df_minority])\n",
        " \n",
        "# Display new class counts\n",
        "df_downsampled.balance.value_counts()\n",
        "# 1    73652\n",
        "# 0    73652\n",
        "# Name: balance, dtype: int64"
      ],
      "execution_count": null,
      "outputs": [
        {
          "output_type": "execute_result",
          "data": {
            "text/plain": [
              "1    8433\n",
              "0    8433\n",
              "Name: balance, dtype: int64"
            ]
          },
          "metadata": {
            "tags": []
          },
          "execution_count": 83
        }
      ]
    },
    {
      "cell_type": "code",
      "metadata": {
        "id": "FNw8-x_C8Def"
      },
      "source": [
        "y=np.array(df_downsampled.balance)\n",
        "df_downsampled.drop('balance', axis=1, inplace=True)"
      ],
      "execution_count": null,
      "outputs": []
    },
    {
      "cell_type": "code",
      "metadata": {
        "id": "NU5t8crV9mU0"
      },
      "source": [
        "X_train = np.array(df_downsampled)\n",
        "y_train = to_categorical(y)"
      ],
      "execution_count": null,
      "outputs": []
    },
    {
      "cell_type": "code",
      "metadata": {
        "id": "wzbp3eNh9V6a"
      },
      "source": [
        ""
      ],
      "execution_count": null,
      "outputs": []
    },
    {
      "cell_type": "code",
      "metadata": {
        "colab": {
          "base_uri": "https://localhost:8080/"
        },
        "id": "FR5vvl6H8WUx",
        "outputId": "75a5ee10-2e86-4c19-8ee8-05e2e4cee468"
      },
      "source": [
        "X_train.shape"
      ],
      "execution_count": null,
      "outputs": [
        {
          "output_type": "execute_result",
          "data": {
            "text/plain": [
              "(16866, 768)"
            ]
          },
          "metadata": {
            "tags": []
          },
          "execution_count": 107
        }
      ]
    },
    {
      "cell_type": "code",
      "metadata": {
        "colab": {
          "base_uri": "https://localhost:8080/",
          "height": 215
        },
        "id": "MinJYNr5CYVf",
        "outputId": "59d1bdc2-a99f-4290-bc98-609c14e43c9f"
      },
      "source": [
        "del embeddings\n",
        "del y_encoded\n",
        "del X\n",
        "del y"
      ],
      "execution_count": null,
      "outputs": [
        {
          "output_type": "error",
          "ename": "NameError",
          "evalue": "ignored",
          "traceback": [
            "\u001b[0;31m---------------------------------------------------------------------------\u001b[0m",
            "\u001b[0;31mNameError\u001b[0m                                 Traceback (most recent call last)",
            "\u001b[0;32m<ipython-input-102-553c75807a34>\u001b[0m in \u001b[0;36m<module>\u001b[0;34m()\u001b[0m\n\u001b[0;32m----> 1\u001b[0;31m \u001b[0;32mdel\u001b[0m \u001b[0membeddings\u001b[0m\u001b[0;34m\u001b[0m\u001b[0;34m\u001b[0m\u001b[0m\n\u001b[0m\u001b[1;32m      2\u001b[0m \u001b[0;32mdel\u001b[0m \u001b[0my_encoded\u001b[0m\u001b[0;34m\u001b[0m\u001b[0;34m\u001b[0m\u001b[0m\n\u001b[1;32m      3\u001b[0m \u001b[0;32mdel\u001b[0m \u001b[0mX\u001b[0m\u001b[0;34m\u001b[0m\u001b[0;34m\u001b[0m\u001b[0m\n\u001b[1;32m      4\u001b[0m \u001b[0;32mdel\u001b[0m \u001b[0my\u001b[0m\u001b[0;34m\u001b[0m\u001b[0;34m\u001b[0m\u001b[0m\n",
            "\u001b[0;31mNameError\u001b[0m: name 'embeddings' is not defined"
          ]
        }
      ]
    },
    {
      "cell_type": "code",
      "metadata": {
        "id": "v5gegQQlmhCl"
      },
      "source": [
        "# define baseline model\n",
        "def baseline_model(dim,n_classes):\n",
        "\t# create model\n",
        "    model = Sequential()\n",
        "    model.add(Dense(56, activation='relu', input_dim=dim))\n",
        "    model.add(Dropout(0.1))\n",
        "    model.add(Dense(28, activation='relu'))\n",
        "    model.add(Dropout(0.1))\n",
        "    model.add(Dense(n_classes, activation='softmax'))\n",
        "    model.compile(loss='categorical_crossentropy', optimizer='Adam',metrics=['accuracy'])\n",
        "    return model"
      ],
      "execution_count": null,
      "outputs": []
    },
    {
      "cell_type": "code",
      "metadata": {
        "id": "JDFjgUKOpv47"
      },
      "source": [
        "# Create callbacks\n",
        "multi_checkpointer = ModelCheckpoint(filepath='weights.best.hdf5',verbose=2, save_best_only=True)\n",
        "multi_lr_reduction = ReduceLROnPlateau(monitor='val_loss',patience=50, verbose=2, factor=0.2)\n",
        "multi_earlystop = EarlyStopping(monitor='val_loss', min_delta=0, patience=150, verbose=0, mode='auto')"
      ],
      "execution_count": null,
      "outputs": []
    },
    {
      "cell_type": "code",
      "metadata": {
        "colab": {
          "base_uri": "https://localhost:8080/"
        },
        "id": "ld3qoQ3Rrswl",
        "outputId": "9244b0e6-0780-4006-daa7-80887e471d72"
      },
      "source": [
        "y_train.shape"
      ],
      "execution_count": null,
      "outputs": [
        {
          "output_type": "execute_result",
          "data": {
            "text/plain": [
              "(16866, 2)"
            ]
          },
          "metadata": {
            "tags": []
          },
          "execution_count": 110
        }
      ]
    },
    {
      "cell_type": "code",
      "metadata": {
        "colab": {
          "base_uri": "https://localhost:8080/"
        },
        "id": "p1fCejYzpWUl",
        "outputId": "9fc1ddfa-e424-40bd-ae33-c247a0cb9d5b"
      },
      "source": [
        "model = baseline_model(input_dim, n_classes)\n",
        "model.summary()\n",
        "# Train  model\n",
        "history = model.fit(X_train, y_train,validation_split=0.1, epochs=150, batch_size=64, verbose=1, shuffle=True,\n",
        "                                    callbacks=[multi_checkpointer,multi_lr_reduction,multi_earlystop])"
      ],
      "execution_count": null,
      "outputs": [
        {
          "output_type": "stream",
          "text": [
            "Model: \"sequential_4\"\n",
            "_________________________________________________________________\n",
            "Layer (type)                 Output Shape              Param #   \n",
            "=================================================================\n",
            "dense_12 (Dense)             (None, 56)                43064     \n",
            "_________________________________________________________________\n",
            "dropout_8 (Dropout)          (None, 56)                0         \n",
            "_________________________________________________________________\n",
            "dense_13 (Dense)             (None, 28)                1596      \n",
            "_________________________________________________________________\n",
            "dropout_9 (Dropout)          (None, 28)                0         \n",
            "_________________________________________________________________\n",
            "dense_14 (Dense)             (None, 2)                 58        \n",
            "=================================================================\n",
            "Total params: 44,718\n",
            "Trainable params: 44,718\n",
            "Non-trainable params: 0\n",
            "_________________________________________________________________\n",
            "Epoch 1/50\n",
            "223/238 [===========================>..] - ETA: 0s - loss: 0.2474 - accuracy: 0.8896\n",
            "Epoch 00001: val_loss improved from inf to 0.20426, saving model to weights.best.hdf5\n",
            "238/238 [==============================] - 1s 4ms/step - loss: 0.2436 - accuracy: 0.8906 - val_loss: 0.2043 - val_accuracy: 0.9401\n",
            "Epoch 2/50\n",
            "225/238 [===========================>..] - ETA: 0s - loss: 0.2038 - accuracy: 0.9038\n",
            "Epoch 00002: val_loss did not improve from 0.20426\n",
            "238/238 [==============================] - 1s 3ms/step - loss: 0.2042 - accuracy: 0.9034 - val_loss: 0.2357 - val_accuracy: 0.9075\n",
            "Epoch 3/50\n",
            "224/238 [===========================>..] - ETA: 0s - loss: 0.1948 - accuracy: 0.9030\n",
            "Epoch 00003: val_loss did not improve from 0.20426\n",
            "238/238 [==============================] - 1s 2ms/step - loss: 0.1949 - accuracy: 0.9032 - val_loss: 0.2366 - val_accuracy: 0.9301\n",
            "Epoch 4/50\n",
            "228/238 [===========================>..] - ETA: 0s - loss: 0.1913 - accuracy: 0.9059\n",
            "Epoch 00004: val_loss did not improve from 0.20426\n",
            "238/238 [==============================] - 1s 2ms/step - loss: 0.1906 - accuracy: 0.9061 - val_loss: 0.2187 - val_accuracy: 0.9306\n",
            "Epoch 5/50\n",
            "228/238 [===========================>..] - ETA: 0s - loss: 0.1862 - accuracy: 0.9085\n",
            "Epoch 00005: val_loss did not improve from 0.20426\n",
            "238/238 [==============================] - 1s 2ms/step - loss: 0.1872 - accuracy: 0.9084 - val_loss: 0.2168 - val_accuracy: 0.9461\n",
            "Epoch 6/50\n",
            "234/238 [============================>.] - ETA: 0s - loss: 0.1861 - accuracy: 0.9083\n",
            "Epoch 00006: val_loss did not improve from 0.20426\n",
            "238/238 [==============================] - 1s 2ms/step - loss: 0.1864 - accuracy: 0.9086 - val_loss: 0.2044 - val_accuracy: 0.9478\n",
            "Epoch 7/50\n",
            "227/238 [===========================>..] - ETA: 0s - loss: 0.1826 - accuracy: 0.9104\n",
            "Epoch 00007: val_loss improved from 0.20426 to 0.17780, saving model to weights.best.hdf5\n",
            "238/238 [==============================] - 1s 3ms/step - loss: 0.1826 - accuracy: 0.9107 - val_loss: 0.1778 - val_accuracy: 0.9508\n",
            "Epoch 8/50\n",
            "228/238 [===========================>..] - ETA: 0s - loss: 0.1809 - accuracy: 0.9117\n",
            "Epoch 00008: val_loss improved from 0.17780 to 0.17706, saving model to weights.best.hdf5\n",
            "238/238 [==============================] - 1s 3ms/step - loss: 0.1817 - accuracy: 0.9112 - val_loss: 0.1771 - val_accuracy: 0.9538\n",
            "Epoch 9/50\n",
            "237/238 [============================>.] - ETA: 0s - loss: 0.1811 - accuracy: 0.9108\n",
            "Epoch 00009: val_loss did not improve from 0.17706\n",
            "238/238 [==============================] - 1s 3ms/step - loss: 0.1812 - accuracy: 0.9108 - val_loss: 0.2053 - val_accuracy: 0.9437\n",
            "Epoch 10/50\n",
            "235/238 [============================>.] - ETA: 0s - loss: 0.1798 - accuracy: 0.9108\n",
            "Epoch 00010: val_loss did not improve from 0.17706\n",
            "238/238 [==============================] - 1s 3ms/step - loss: 0.1796 - accuracy: 0.9111 - val_loss: 0.2149 - val_accuracy: 0.9384\n",
            "Epoch 11/50\n",
            "222/238 [==========================>...] - ETA: 0s - loss: 0.1794 - accuracy: 0.9085\n",
            "Epoch 00011: val_loss did not improve from 0.17706\n",
            "238/238 [==============================] - 1s 3ms/step - loss: 0.1777 - accuracy: 0.9090 - val_loss: 0.2186 - val_accuracy: 0.9437\n",
            "Epoch 12/50\n",
            "227/238 [===========================>..] - ETA: 0s - loss: 0.1778 - accuracy: 0.9109\n",
            "Epoch 00012: val_loss did not improve from 0.17706\n",
            "238/238 [==============================] - 1s 3ms/step - loss: 0.1779 - accuracy: 0.9109 - val_loss: 0.2243 - val_accuracy: 0.9348\n",
            "Epoch 13/50\n",
            "232/238 [============================>.] - ETA: 0s - loss: 0.1763 - accuracy: 0.9142\n",
            "Epoch 00013: val_loss did not improve from 0.17706\n",
            "238/238 [==============================] - 1s 2ms/step - loss: 0.1767 - accuracy: 0.9146 - val_loss: 0.2108 - val_accuracy: 0.9455\n",
            "Epoch 14/50\n",
            "238/238 [==============================] - ETA: 0s - loss: 0.1769 - accuracy: 0.9125\n",
            "Epoch 00014: val_loss did not improve from 0.17706\n",
            "238/238 [==============================] - 1s 3ms/step - loss: 0.1769 - accuracy: 0.9125 - val_loss: 0.2169 - val_accuracy: 0.9413\n",
            "Epoch 15/50\n",
            "230/238 [===========================>..] - ETA: 0s - loss: 0.1742 - accuracy: 0.9131\n",
            "Epoch 00015: val_loss did not improve from 0.17706\n",
            "238/238 [==============================] - 1s 2ms/step - loss: 0.1744 - accuracy: 0.9132 - val_loss: 0.1935 - val_accuracy: 0.9455\n",
            "Epoch 16/50\n",
            "233/238 [============================>.] - ETA: 0s - loss: 0.1766 - accuracy: 0.9130\n",
            "Epoch 00016: val_loss did not improve from 0.17706\n",
            "238/238 [==============================] - 1s 2ms/step - loss: 0.1775 - accuracy: 0.9131 - val_loss: 0.1782 - val_accuracy: 0.9478\n",
            "Epoch 17/50\n",
            "233/238 [============================>.] - ETA: 0s - loss: 0.1737 - accuracy: 0.9140\n",
            "Epoch 00017: val_loss did not improve from 0.17706\n",
            "238/238 [==============================] - 1s 2ms/step - loss: 0.1741 - accuracy: 0.9137 - val_loss: 0.1898 - val_accuracy: 0.9425\n",
            "Epoch 18/50\n",
            "231/238 [============================>.] - ETA: 0s - loss: 0.1760 - accuracy: 0.9124\n",
            "Epoch 00018: val_loss did not improve from 0.17706\n",
            "238/238 [==============================] - 1s 2ms/step - loss: 0.1752 - accuracy: 0.9125 - val_loss: 0.1918 - val_accuracy: 0.9455\n",
            "Epoch 19/50\n",
            "232/238 [============================>.] - ETA: 0s - loss: 0.1736 - accuracy: 0.9126\n",
            "Epoch 00019: val_loss did not improve from 0.17706\n",
            "238/238 [==============================] - 1s 2ms/step - loss: 0.1740 - accuracy: 0.9121 - val_loss: 0.1904 - val_accuracy: 0.9472\n",
            "Epoch 20/50\n",
            "237/238 [============================>.] - ETA: 0s - loss: 0.1726 - accuracy: 0.9132\n",
            "Epoch 00020: val_loss did not improve from 0.17706\n",
            "238/238 [==============================] - 1s 2ms/step - loss: 0.1725 - accuracy: 0.9132 - val_loss: 0.1962 - val_accuracy: 0.9538\n",
            "Epoch 21/50\n",
            "231/238 [============================>.] - ETA: 0s - loss: 0.1735 - accuracy: 0.9139\n",
            "Epoch 00021: val_loss improved from 0.17706 to 0.17306, saving model to weights.best.hdf5\n",
            "238/238 [==============================] - 1s 3ms/step - loss: 0.1738 - accuracy: 0.9140 - val_loss: 0.1731 - val_accuracy: 0.9490\n",
            "Epoch 22/50\n",
            "226/238 [===========================>..] - ETA: 0s - loss: 0.1740 - accuracy: 0.9136\n",
            "Epoch 00022: val_loss did not improve from 0.17306\n",
            "238/238 [==============================] - 1s 2ms/step - loss: 0.1739 - accuracy: 0.9141 - val_loss: 0.2187 - val_accuracy: 0.9467\n",
            "Epoch 23/50\n",
            "234/238 [============================>.] - ETA: 0s - loss: 0.1745 - accuracy: 0.9127\n",
            "Epoch 00023: val_loss did not improve from 0.17306\n",
            "238/238 [==============================] - 1s 2ms/step - loss: 0.1745 - accuracy: 0.9129 - val_loss: 0.1845 - val_accuracy: 0.9443\n",
            "Epoch 24/50\n",
            "220/238 [==========================>...] - ETA: 0s - loss: 0.1718 - accuracy: 0.9145\n",
            "Epoch 00024: val_loss did not improve from 0.17306\n",
            "238/238 [==============================] - 1s 3ms/step - loss: 0.1719 - accuracy: 0.9151 - val_loss: 0.2078 - val_accuracy: 0.9366\n",
            "Epoch 25/50\n",
            "225/238 [===========================>..] - ETA: 0s - loss: 0.1699 - accuracy: 0.9156\n",
            "Epoch 00025: val_loss did not improve from 0.17306\n",
            "238/238 [==============================] - 1s 2ms/step - loss: 0.1716 - accuracy: 0.9153 - val_loss: 0.1871 - val_accuracy: 0.9490\n",
            "Epoch 26/50\n",
            "218/238 [==========================>...] - ETA: 0s - loss: 0.1708 - accuracy: 0.9156\n",
            "Epoch 00026: val_loss did not improve from 0.17306\n",
            "238/238 [==============================] - 1s 3ms/step - loss: 0.1721 - accuracy: 0.9153 - val_loss: 0.2121 - val_accuracy: 0.9490\n",
            "Epoch 27/50\n",
            "224/238 [===========================>..] - ETA: 0s - loss: 0.1702 - accuracy: 0.9150\n",
            "Epoch 00027: val_loss did not improve from 0.17306\n",
            "238/238 [==============================] - 1s 3ms/step - loss: 0.1712 - accuracy: 0.9145 - val_loss: 0.2245 - val_accuracy: 0.9348\n",
            "Epoch 28/50\n",
            "228/238 [===========================>..] - ETA: 0s - loss: 0.1704 - accuracy: 0.9150\n",
            "Epoch 00028: val_loss did not improve from 0.17306\n",
            "238/238 [==============================] - 1s 2ms/step - loss: 0.1708 - accuracy: 0.9144 - val_loss: 0.2144 - val_accuracy: 0.9467\n",
            "Epoch 29/50\n",
            "222/238 [==========================>...] - ETA: 0s - loss: 0.1715 - accuracy: 0.9153\n",
            "Epoch 00029: val_loss did not improve from 0.17306\n",
            "238/238 [==============================] - 1s 3ms/step - loss: 0.1718 - accuracy: 0.9153 - val_loss: 0.1830 - val_accuracy: 0.9461\n",
            "Epoch 30/50\n",
            "229/238 [===========================>..] - ETA: 0s - loss: 0.1725 - accuracy: 0.9144\n",
            "Epoch 00030: val_loss did not improve from 0.17306\n",
            "238/238 [==============================] - 1s 2ms/step - loss: 0.1715 - accuracy: 0.9148 - val_loss: 0.2252 - val_accuracy: 0.9467\n",
            "Epoch 31/50\n",
            "234/238 [============================>.] - ETA: 0s - loss: 0.1711 - accuracy: 0.9138\n",
            "Epoch 00031: val_loss did not improve from 0.17306\n",
            "238/238 [==============================] - 1s 2ms/step - loss: 0.1714 - accuracy: 0.9138 - val_loss: 0.2295 - val_accuracy: 0.9413\n",
            "Epoch 32/50\n",
            "232/238 [============================>.] - ETA: 0s - loss: 0.1713 - accuracy: 0.9145\n",
            "Epoch 00032: val_loss did not improve from 0.17306\n",
            "238/238 [==============================] - 1s 2ms/step - loss: 0.1709 - accuracy: 0.9149 - val_loss: 0.1968 - val_accuracy: 0.9490\n",
            "Epoch 33/50\n",
            "231/238 [============================>.] - ETA: 0s - loss: 0.1718 - accuracy: 0.9146\n",
            "Epoch 00033: val_loss did not improve from 0.17306\n",
            "238/238 [==============================] - 1s 2ms/step - loss: 0.1718 - accuracy: 0.9148 - val_loss: 0.1838 - val_accuracy: 0.9496\n",
            "Epoch 34/50\n",
            "234/238 [============================>.] - ETA: 0s - loss: 0.1707 - accuracy: 0.9123\n",
            "Epoch 00034: val_loss did not improve from 0.17306\n",
            "238/238 [==============================] - 1s 2ms/step - loss: 0.1704 - accuracy: 0.9124 - val_loss: 0.2049 - val_accuracy: 0.9490\n",
            "Epoch 35/50\n",
            "238/238 [==============================] - ETA: 0s - loss: 0.1710 - accuracy: 0.9148\n",
            "Epoch 00035: val_loss did not improve from 0.17306\n",
            "238/238 [==============================] - 1s 2ms/step - loss: 0.1710 - accuracy: 0.9148 - val_loss: 0.1832 - val_accuracy: 0.9478\n",
            "Epoch 36/50\n",
            "234/238 [============================>.] - ETA: 0s - loss: 0.1697 - accuracy: 0.9153\n",
            "Epoch 00036: val_loss did not improve from 0.17306\n",
            "238/238 [==============================] - 1s 2ms/step - loss: 0.1695 - accuracy: 0.9155 - val_loss: 0.1923 - val_accuracy: 0.9478\n",
            "Epoch 37/50\n",
            "232/238 [============================>.] - ETA: 0s - loss: 0.1691 - accuracy: 0.9154\n",
            "Epoch 00037: val_loss did not improve from 0.17306\n",
            "238/238 [==============================] - 1s 2ms/step - loss: 0.1695 - accuracy: 0.9153 - val_loss: 0.1962 - val_accuracy: 0.8643\n",
            "Epoch 38/50\n",
            "225/238 [===========================>..] - ETA: 0s - loss: 0.1704 - accuracy: 0.9157\n",
            "Epoch 00038: val_loss did not improve from 0.17306\n",
            "238/238 [==============================] - 1s 2ms/step - loss: 0.1696 - accuracy: 0.9160 - val_loss: 0.2023 - val_accuracy: 0.9437\n",
            "Epoch 39/50\n",
            "215/238 [==========================>...] - ETA: 0s - loss: 0.1713 - accuracy: 0.9121\n",
            "Epoch 00039: val_loss did not improve from 0.17306\n",
            "238/238 [==============================] - 1s 2ms/step - loss: 0.1703 - accuracy: 0.9128 - val_loss: 0.1934 - val_accuracy: 0.9496\n",
            "Epoch 40/50\n",
            "234/238 [============================>.] - ETA: 0s - loss: 0.1685 - accuracy: 0.9150\n",
            "Epoch 00040: val_loss did not improve from 0.17306\n",
            "238/238 [==============================] - 1s 2ms/step - loss: 0.1686 - accuracy: 0.9151 - val_loss: 0.1837 - val_accuracy: 0.9484\n",
            "Epoch 41/50\n",
            "229/238 [===========================>..] - ETA: 0s - loss: 0.1692 - accuracy: 0.9151\n",
            "Epoch 00041: val_loss did not improve from 0.17306\n",
            "238/238 [==============================] - 1s 2ms/step - loss: 0.1685 - accuracy: 0.9155 - val_loss: 0.1935 - val_accuracy: 0.9490\n",
            "Epoch 42/50\n",
            "214/238 [=========================>....] - ETA: 0s - loss: 0.1666 - accuracy: 0.9154\n",
            "Epoch 00042: val_loss did not improve from 0.17306\n",
            "238/238 [==============================] - 1s 2ms/step - loss: 0.1670 - accuracy: 0.9147 - val_loss: 0.1961 - val_accuracy: 0.9478\n",
            "Epoch 43/50\n",
            "216/238 [==========================>...] - ETA: 0s - loss: 0.1684 - accuracy: 0.9164\n",
            "Epoch 00043: val_loss did not improve from 0.17306\n",
            "238/238 [==============================] - 1s 2ms/step - loss: 0.1687 - accuracy: 0.9163 - val_loss: 0.1858 - val_accuracy: 0.9478\n",
            "Epoch 44/50\n",
            "221/238 [==========================>...] - ETA: 0s - loss: 0.1689 - accuracy: 0.9157\n",
            "Epoch 00044: val_loss did not improve from 0.17306\n",
            "238/238 [==============================] - 1s 2ms/step - loss: 0.1693 - accuracy: 0.9147 - val_loss: 0.1944 - val_accuracy: 0.9490\n",
            "Epoch 45/50\n",
            "236/238 [============================>.] - ETA: 0s - loss: 0.1691 - accuracy: 0.9160\n",
            "Epoch 00045: val_loss did not improve from 0.17306\n",
            "238/238 [==============================] - 1s 2ms/step - loss: 0.1689 - accuracy: 0.9161 - val_loss: 0.2178 - val_accuracy: 0.9425\n",
            "Epoch 46/50\n",
            "229/238 [===========================>..] - ETA: 0s - loss: 0.1699 - accuracy: 0.9161\n",
            "Epoch 00046: val_loss did not improve from 0.17306\n",
            "238/238 [==============================] - 1s 2ms/step - loss: 0.1703 - accuracy: 0.9156 - val_loss: 0.2054 - val_accuracy: 0.9366\n",
            "Epoch 47/50\n",
            "224/238 [===========================>..] - ETA: 0s - loss: 0.1688 - accuracy: 0.9157\n",
            "Epoch 00047: val_loss did not improve from 0.17306\n",
            "238/238 [==============================] - 1s 3ms/step - loss: 0.1691 - accuracy: 0.9154 - val_loss: 0.1963 - val_accuracy: 0.9472\n",
            "Epoch 48/50\n",
            "226/238 [===========================>..] - ETA: 0s - loss: 0.1679 - accuracy: 0.9158\n",
            "Epoch 00048: val_loss did not improve from 0.17306\n",
            "238/238 [==============================] - 1s 2ms/step - loss: 0.1680 - accuracy: 0.9155 - val_loss: 0.2056 - val_accuracy: 0.9431\n",
            "Epoch 49/50\n",
            "234/238 [============================>.] - ETA: 0s - loss: 0.1682 - accuracy: 0.9155\n",
            "Epoch 00049: val_loss did not improve from 0.17306\n",
            "238/238 [==============================] - 1s 2ms/step - loss: 0.1691 - accuracy: 0.9152 - val_loss: 0.1978 - val_accuracy: 0.9472\n",
            "Epoch 50/50\n",
            "215/238 [==========================>...] - ETA: 0s - loss: 0.1681 - accuracy: 0.9160\n",
            "Epoch 00050: val_loss did not improve from 0.17306\n",
            "238/238 [==============================] - 1s 2ms/step - loss: 0.1671 - accuracy: 0.9163 - val_loss: 0.1778 - val_accuracy: 0.9478\n"
          ],
          "name": "stdout"
        }
      ]
    },
    {
      "cell_type": "code",
      "metadata": {
        "colab": {
          "base_uri": "https://localhost:8080/",
          "height": 562
        },
        "id": "SsVtu-d33xN7",
        "outputId": "7d710117-cdb9-4547-fdd3-7305572723c5"
      },
      "source": [
        "def visualize_performace(history):\n",
        "    import matplotlib.pyplot as plt\n",
        "\n",
        "    acc = history.history['accuracy']\n",
        "    val_acc = history.history['val_accuracy']\n",
        "    loss = history.history['loss']\n",
        "    val_loss = history.history['val_loss']\n",
        "\n",
        "    epochs = range(len(acc))\n",
        "\n",
        "    plt.plot(epochs, acc, label='Training acc')\n",
        "    plt.plot(epochs, val_acc, label='Validation acc')\n",
        "    plt.title('Training and validation accuracy')\n",
        "    plt.legend()\n",
        "\n",
        "    plt.figure()\n",
        "    plt.plot(epochs, loss, label='Training loss')\n",
        "    plt.plot(epochs, val_loss, label='Validation loss')\n",
        "    plt.title('Training and validation loss')\n",
        "    plt.legend()\n",
        "\n",
        "    plt.show()\n",
        "    plt.savefig('training.pdf')\n",
        "    # plot model performance curves\n",
        "visualize_performace(history)"
      ],
      "execution_count": null,
      "outputs": [
        {
          "output_type": "display_data",
          "data": {
            "image/png": "[encoded data removed]",
            "text/plain": [
              "<Figure size 432x288 with 1 Axes>"
            ]
          },
          "metadata": {
            "tags": []
          }
        },
        {
          "output_type": "display_data",
          "data": {
            "image/png": "[encoded data removed]",
            "text/plain": [
              "<Figure size 432x288 with 1 Axes>"
            ]
          },
          "metadata": {
            "tags": []
          }
        },
        {
          "output_type": "display_data",
          "data": {
            "text/plain": [
              "<Figure size 432x288 with 0 Axes>"
            ]
          },
          "metadata": {
            "tags": []
          }
        }
      ]
    },
    {
      "cell_type": "markdown",
      "metadata": {
        "id": "82EJlff4Uw_u"
      },
      "source": [
        "#**Performance Metrics**"
      ]
    },
    {
      "cell_type": "code",
      "metadata": {
        "colab": {
          "base_uri": "https://localhost:8080/",
          "height": 928
        },
        "id": "ES3ohDnCU1-O",
        "outputId": "ddd24a5f-09bd-49f3-f93e-cd4456c1d657"
      },
      "source": [
        "import Netflow_NN as NN\n",
        "import matplotlib.pyplot as plt\n",
        "# Load test data\n",
        "# load best  weights checkpoint in HDF5\n",
        "loaded_model = load_model(\"weights.best.hdf5\")\n",
        "\n",
        "class_size = 2\n",
        "if class_size == 2:\n",
        "   labels = ['normal','malicious']\n",
        "else:\n",
        "   labels = [0, 1, 2, 3]\n",
        "n_classes = len(labels)\n",
        "\n",
        "# --->Final evaluation of the model <----\n",
        "scores = loaded_model.evaluate(X_test, y_test, verbose=0)\n",
        "print(\"Baseline Accuracy: %.2f%% \\n\" % (scores[1]*100))\n",
        "\n",
        "\"\"\"\n",
        "Section to compute and plot confusion matrix y_test vs y_pred\n",
        "The higher the diagonal values of the confusion matrix the better, indicating\n",
        "many correct predictions. The confusion matrix is used to evaluate accuracy of a \n",
        "classification\n",
        "\"\"\"\n",
        "#---- > Compute confusion matrix <-----\n",
        "\n",
        "np.set_printoptions(precision=5)\n",
        "y_pred = loaded_model.predict(X_test, verbose=1)\n",
        "\n",
        "# Plot non-normalized confusion matrix\n",
        "NN.y_test = y_test\n",
        "NN.y_pred = y_pred\n",
        "NN.plot_confusion_matrix(NN.y_test, NN.y_pred, classes=labels,\n",
        "                      title='Confusion matrix, without normalization')\n",
        "\n",
        "# Plot normalized confusion matrix\n",
        "NN.plot_confusion_matrix(y_test, y_pred, classes=labels, normalize=True,\n",
        "                      title='Normalized confusion matrix')\n",
        "plt.show()\n",
        "#------>End Final Evaluation of model <-----\n",
        "\n",
        "#----> Plot ROC curves for the multiclass problem <----\n",
        "# Compute ROC curve and ROC area for each class\n",
        "fpr = dict()\n",
        "tpr = dict()\n",
        "roc_auc = dict()\n",
        "for i in range(class_size):\n",
        "    fpr[i], tpr[i], _ = NN.roc_curve(NN.y_test[:, i], NN.y_pred[:, i])\n",
        "    roc_auc[i] = NN.auc(fpr[i], tpr[i])\n",
        "# Compute micro-average ROC curve and ROC area\n",
        "fpr[\"macro\"], tpr[\"macro\"], _ = NN.roc_curve(y_test.ravel(), y_pred.ravel())\n",
        "roc_auc[\"macro\"] = NN.auc(fpr[\"macro\"], tpr[\"macro\"])\n",
        "NN.Multi_ROC(class_size,fpr)"
      ],
      "execution_count": null,
      "outputs": [
        {
          "output_type": "stream",
          "text": [
            "Baseline Accuracy: 88.55% \n",
            "\n",
            "16008/16008 [==============================] - 11s 700us/step\n"
          ],
          "name": "stdout"
        },
        {
          "output_type": "display_data",
          "data": {
            "image/png": "[encoded data removed]",
            "text/plain": [
              "<Figure size 432x288 with 2 Axes>"
            ]
          },
          "metadata": {
            "tags": []
          }
        },
        {
          "output_type": "display_data",
          "data": {
            "image/png": "[encoded data removed]",
            "text/plain": [
              "<Figure size 432x288 with 2 Axes>"
            ]
          },
          "metadata": {
            "tags": []
          }
        },
        {
          "output_type": "error",
          "ename": "KeyError",
          "evalue": "ignored",
          "traceback": [
            "\u001b[0;31m---------------------------------------------------------------------------\u001b[0m",
            "\u001b[0;31mKeyError\u001b[0m                                  Traceback (most recent call last)",
            "\u001b[0;32m<ipython-input-127-3787299c7548>\u001b[0m in \u001b[0;36m<module>\u001b[0;34m()\u001b[0m\n\u001b[1;32m     50\u001b[0m \u001b[0mfpr\u001b[0m\u001b[0;34m[\u001b[0m\u001b[0;34m\"macro\"\u001b[0m\u001b[0;34m]\u001b[0m\u001b[0;34m,\u001b[0m \u001b[0mtpr\u001b[0m\u001b[0;34m[\u001b[0m\u001b[0;34m\"macro\"\u001b[0m\u001b[0;34m]\u001b[0m\u001b[0;34m,\u001b[0m \u001b[0m_\u001b[0m \u001b[0;34m=\u001b[0m \u001b[0mNN\u001b[0m\u001b[0;34m.\u001b[0m\u001b[0mroc_curve\u001b[0m\u001b[0;34m(\u001b[0m\u001b[0my_test\u001b[0m\u001b[0;34m.\u001b[0m\u001b[0mravel\u001b[0m\u001b[0;34m(\u001b[0m\u001b[0;34m)\u001b[0m\u001b[0;34m,\u001b[0m \u001b[0my_pred\u001b[0m\u001b[0;34m.\u001b[0m\u001b[0mravel\u001b[0m\u001b[0;34m(\u001b[0m\u001b[0;34m)\u001b[0m\u001b[0;34m)\u001b[0m\u001b[0;34m\u001b[0m\u001b[0;34m\u001b[0m\u001b[0m\n\u001b[1;32m     51\u001b[0m \u001b[0mroc_auc\u001b[0m\u001b[0;34m[\u001b[0m\u001b[0;34m\"macro\"\u001b[0m\u001b[0;34m]\u001b[0m \u001b[0;34m=\u001b[0m \u001b[0mNN\u001b[0m\u001b[0;34m.\u001b[0m\u001b[0mauc\u001b[0m\u001b[0;34m(\u001b[0m\u001b[0mfpr\u001b[0m\u001b[0;34m[\u001b[0m\u001b[0;34m\"macro\"\u001b[0m\u001b[0;34m]\u001b[0m\u001b[0;34m,\u001b[0m \u001b[0mtpr\u001b[0m\u001b[0;34m[\u001b[0m\u001b[0;34m\"macro\"\u001b[0m\u001b[0;34m]\u001b[0m\u001b[0;34m)\u001b[0m\u001b[0;34m\u001b[0m\u001b[0;34m\u001b[0m\u001b[0m\n\u001b[0;32m---> 52\u001b[0;31m \u001b[0mNN\u001b[0m\u001b[0;34m.\u001b[0m\u001b[0mMulti_ROC\u001b[0m\u001b[0;34m(\u001b[0m\u001b[0mclass_size\u001b[0m\u001b[0;34m,\u001b[0m\u001b[0mfpr\u001b[0m\u001b[0;34m)\u001b[0m\u001b[0;34m\u001b[0m\u001b[0;34m\u001b[0m\u001b[0m\n\u001b[0m",
            "\u001b[0;32m/content/gdrive/My Drive/20191101-2020-1031-alerts/python/Netflow_NN.py\u001b[0m in \u001b[0;36mMulti_ROC\u001b[0;34m(n_classes, fpr)\u001b[0m\n\u001b[1;32m    146\u001b[0m     \u001b[0mmean_tpr\u001b[0m \u001b[0;34m=\u001b[0m \u001b[0mnp\u001b[0m\u001b[0;34m.\u001b[0m\u001b[0mzeros_like\u001b[0m\u001b[0;34m(\u001b[0m\u001b[0mall_fpr\u001b[0m\u001b[0;34m)\u001b[0m\u001b[0;34m\u001b[0m\u001b[0;34m\u001b[0m\u001b[0m\n\u001b[1;32m    147\u001b[0m     \u001b[0;32mfor\u001b[0m \u001b[0mi\u001b[0m \u001b[0;32min\u001b[0m \u001b[0mrange\u001b[0m\u001b[0;34m(\u001b[0m\u001b[0mn_classes\u001b[0m\u001b[0;34m)\u001b[0m\u001b[0;34m:\u001b[0m\u001b[0;34m\u001b[0m\u001b[0;34m\u001b[0m\u001b[0m\n\u001b[0;32m--> 148\u001b[0;31m         \u001b[0mmean_tpr\u001b[0m \u001b[0;34m+=\u001b[0m \u001b[0minterp\u001b[0m\u001b[0;34m(\u001b[0m\u001b[0mall_fpr\u001b[0m\u001b[0;34m,\u001b[0m \u001b[0mfpr\u001b[0m\u001b[0;34m[\u001b[0m\u001b[0mi\u001b[0m\u001b[0;34m]\u001b[0m\u001b[0;34m,\u001b[0m \u001b[0mtpr\u001b[0m\u001b[0;34m[\u001b[0m\u001b[0mi\u001b[0m\u001b[0;34m]\u001b[0m\u001b[0;34m)\u001b[0m\u001b[0;34m\u001b[0m\u001b[0;34m\u001b[0m\u001b[0m\n\u001b[0m\u001b[1;32m    149\u001b[0m \u001b[0;34m\u001b[0m\u001b[0m\n\u001b[1;32m    150\u001b[0m     \u001b[0;31m# Finally average it and compute AUC\u001b[0m\u001b[0;34m\u001b[0m\u001b[0;34m\u001b[0m\u001b[0;34m\u001b[0m\u001b[0m\n",
            "\u001b[0;31mKeyError\u001b[0m: 0"
          ]
        }
      ]
    },
    {
      "cell_type": "code",
      "metadata": {
        "colab": {
          "base_uri": "https://localhost:8080/"
        },
        "id": "2qKtfFEHxMZU",
        "outputId": "20cc9447-4088-4b68-a2a4-79b44eb8eda0"
      },
      "source": [
        "y_pred"
      ],
      "execution_count": null,
      "outputs": [
        {
          "output_type": "execute_result",
          "data": {
            "text/plain": [
              "array([[8.19245e-01, 1.80755e-01],\n",
              "       [9.99978e-01, 2.18691e-05],\n",
              "       [4.84841e-01, 5.15159e-01],\n",
              "       ...,\n",
              "       [9.99798e-01, 2.02528e-04],\n",
              "       [9.88856e-01, 1.11444e-02],\n",
              "       [9.99798e-01, 2.02529e-04]], dtype=float32)"
            ]
          },
          "metadata": {
            "tags": []
          },
          "execution_count": 131
        }
      ]
    },
    {
      "cell_type": "markdown",
      "metadata": {
        "id": "SBcNmZJzSTY8"
      },
      "source": [
        "# Create Topics\n",
        "We use the **distilbert-base-nli-mean-tokens** model as it is the recommended model for creating sentence embeddings according to the authors of the [sentence-embeddings](https://www.sbert.net/docs/pretrained_models.html) package. However, you can use whatever embeddings is currently pre-trained in the package."
      ]
    },
    {
      "cell_type": "code",
      "metadata": {
        "id": "TfhfzqkoSJ1I"
      },
      "source": [
        "model = BERTopic(\"distilbert-base-nli-mean-tokens\", verbose=True)\n",
        "topics = model.fit_transform(docs)"
      ],
      "execution_count": null,
      "outputs": []
    },
    {
      "cell_type": "code",
      "metadata": {
        "id": "nNptKBzHSbyS"
      },
      "source": [
        "# Get most frequent topics\n",
        "model.get_topics_freq()[:5]"
      ],
      "execution_count": null,
      "outputs": []
    },
    {
      "cell_type": "code",
      "metadata": {
        "id": "UCw_q8I7Sb03"
      },
      "source": [
        "# Get a topic \n",
        "model.get_topic(22)[:10]"
      ],
      "execution_count": null,
      "outputs": []
    },
    {
      "cell_type": "markdown",
      "metadata": {
        "id": "wekNoQNuUVoU"
      },
      "source": [
        "## Model serialization\n",
        "The model and its internal settings can easily be saved. Note that the documents and embeddings will not be saved. However, UMAP and HDBSCAN will be saved. "
      ]
    },
    {
      "cell_type": "code",
      "metadata": {
        "id": "nWUF1uxiSb_a"
      },
      "source": [
        "# Save model\n",
        "model.save(\"my_model\")\t"
      ],
      "execution_count": null,
      "outputs": []
    },
    {
      "cell_type": "code",
      "metadata": {
        "id": "y_eHBI1jSb6i"
      },
      "source": [
        "# Load model\n",
        "my_model = BERTopic.load(\"my_model\")\t"
      ],
      "execution_count": null,
      "outputs": []
    },
    {
      "cell_type": "code",
      "metadata": {
        "id": "c9p-bE-MW_Bp"
      },
      "source": [
        "my_model.get_topic(4)[:10]"
      ],
      "execution_count": null,
      "outputs": []
    }
  ]
}