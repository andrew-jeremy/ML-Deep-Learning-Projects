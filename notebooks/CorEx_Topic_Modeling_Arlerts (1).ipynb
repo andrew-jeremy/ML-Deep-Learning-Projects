{
  "nbformat": 4,
  "nbformat_minor": 0,
  "metadata": {
    "colab": {
      "name": "CorEx_Topic_Modeling_Arlerts.ipynb",
      "provenance": [],
      "collapsed_sections": [],
      "machine_shape": "hm"
    },
    "kernelspec": {
      "display_name": "Python 3",
      "name": "python3"
    },
    "accelerator": "TPU"
  },
  "cells": [
    {
      "cell_type": "markdown",
      "metadata": {
        "id": "o7NXytk91LJc"
      },
      "source": [
        "# Correlation Explanation Alternative (CorEx)\n",
        "\n",
        "**Anchored CorEx: Hierarchical Topic Modeling with Minimal Domain Knowledge**\n",
        "\n",
        "Topic modeling by way of Correlation Explanation (CorEx) yields rich topics that are maximally informative about a set of data. Unlike LDA, CorEx does not assume a particular data generating model, and instead searches for topics that are “maximally in- formative” about a set of documents. By learning informative topics rather than generated topics, it  avoids specifying the structure and nature of topics ahead of time.\n",
        "\n",
        "This method  proposes a new way to bypass the limitations of LDA implementation. It introduces a new approach to topic modeling in text classification settings with what the authors call a Correlation Explanation (CorEx). What they claim to achieve is a similar performance and results as LDA, but with a better minimization of human intervention. For that they devised a neat strategy/methodology by an information theoretical framework that uses anchoring of words. These words are introduced as **domain-knowledge anchors** in a way similar to techniques such as the information bottleneck method. In this way the coherence of the overall document classification task is enhanced and  the new topics introduced are better predictors, improving the framework.\n",
        "\n",
        "**References:**\n",
        "\n",
        "Discovering Structure in High-Dimensional Data Through Correlation Explanation, Ver Steeg and Galstyan, NIPS 2014.\n",
        "Maximally Informative Hierarchical Representions of High-Dimensional Data, Ver Steeg and Galstyan, AISTATS 2015.\n",
        "\n",
        "https://github.com/gregversteeg/corex_topic/blob/master/corextopic/example/corex_topic_example.ipynb"
      ]
    },
    {
      "cell_type": "code",
      "metadata": {
        "colab": {
          "base_uri": "https://localhost:8080/"
        },
        "id": "nMI6lOlcvPjB",
        "outputId": "189bccca-7026-4514-9cf7-9ed5d19894d0"
      },
      "source": [
        "# need this code snippet in each notebook to mount the google drive\n",
        "from google.colab import drive  \n",
        "drive.mount('/content/gdrive/')"
      ],
      "execution_count": null,
      "outputs": [
        {
          "output_type": "stream",
          "text": [
            "Drive already mounted at /content/gdrive/; to attempt to forcibly remount, call drive.mount(\"/content/gdrive/\", force_remount=True).\n"
          ],
          "name": "stdout"
        }
      ]
    },
    {
      "cell_type": "code",
      "metadata": {
        "id": "6BQI85jmu9Bu"
      },
      "source": [
        "import pandas as pd\n",
        "import numpy as np\n",
        "import os\n",
        "import nltk\n",
        "from keras.utils import to_categorical"
      ],
      "execution_count": null,
      "outputs": []
    },
    {
      "cell_type": "code",
      "metadata": {
        "id": "OGzf8uiuzgVz"
      },
      "source": [
        "!pip install joblib==0.17.0"
      ],
      "execution_count": null,
      "outputs": []
    },
    {
      "cell_type": "code",
      "metadata": {
        "colab": {
          "base_uri": "https://localhost:8080/"
        },
        "id": "eZHGmmsFatI5",
        "outputId": "188b15da-c2c5-4a58-8cf5-3d19f5576c27"
      },
      "source": [
        "os.chdir(\"/content/gdrive/My Drive/20191101-2020-1031-alerts/python\")\n",
        "!ls"
      ],
      "execution_count": null,
      "outputs": [
        {
          "output_type": "stream",
          "text": [
            " autoencoder_classifier.h5  'processminer-rare-event-mts - data.csv'\n",
            " BerTopic.py\t\t     __pycache__\n",
            " embeddings2.joblib\t     topic-model-example\n",
            " embeddings2.pkl\t     training.pdf\n",
            " embeddings4.joblib\t     weights.best.hdf5\n",
            " embeddings.pkl\t\t     y_encoded2.joblib\n",
            " frame.csv\t\t     y_encoded4.joblib\n",
            " logs\t\t\t     y_encoded4_multi.joblib\n",
            " Netflow_NN.py\t\t     y_encoded.joblib\n",
            " process_alerts.py\n"
          ],
          "name": "stdout"
        }
      ]
    },
    {
      "cell_type": "code",
      "metadata": {
        "colab": {
          "base_uri": "https://localhost:8080/"
        },
        "id": "zjER4wZbiu9z",
        "outputId": "fd97d26f-1a38-4ffc-d54e-2c2a74d6e926"
      },
      "source": [
        "df=pd.read_csv(\"../2019-11-02-alerts.csv\")"
      ],
      "execution_count": null,
      "outputs": [
        {
          "output_type": "stream",
          "text": [
            "/usr/local/lib/python3.6/dist-packages/IPython/core/interactiveshell.py:2718: DtypeWarning: Columns (13,14,15,17) have mixed types.Specify dtype option on import or set low_memory=False.\n",
            "  interactivity=interactivity, compiler=compiler, result=result)\n"
          ],
          "name": "stderr"
        }
      ]
    },
    {
      "cell_type": "code",
      "metadata": {
        "colab": {
          "base_uri": "https://localhost:8080/"
        },
        "id": "GI_TwTzFiyCL",
        "outputId": "c9cadc0f-50ad-4e75-d109-7c541ad01ad5"
      },
      "source": [
        "list(df.columns)"
      ],
      "execution_count": null,
      "outputs": [
        {
          "output_type": "execute_result",
          "data": {
            "text/plain": [
              "['tenant',\n",
              " 'alertDate',\n",
              " 'uuid',\n",
              " 'alert_type',\n",
              " 'severity',\n",
              " 'creator',\n",
              " 'message',\n",
              " 'eventTimestamp',\n",
              " 'ingestDelay',\n",
              " 'alertTimestamp',\n",
              " 'insertDelay',\n",
              " 'insertTimestamp',\n",
              " 'labelDelay',\n",
              " 'labelTimestamp',\n",
              " 'labelName',\n",
              " 'labelUser',\n",
              " 'labelBulk',\n",
              " 'investigateId']"
            ]
          },
          "metadata": {
            "tags": []
          },
          "execution_count": 13
        }
      ]
    },
    {
      "cell_type": "code",
      "metadata": {
        "colab": {
          "base_uri": "https://localhost:8080/"
        },
        "id": "nrJ-p8w-u_Dl",
        "outputId": "1060a91e-f995-4efb-d94f-c6b90d4f9f78"
      },
      "source": [
        "# break large file into chunks and process each chunk\n",
        "fields =['message','labelName']\n",
        "for df_alerts in pd.read_csv(\"frame.csv\", iterator=True, chunksize=2000000000,usecols=fields,low_memory=False):\n",
        "    break \n",
        "df_alerts.shape"
      ],
      "execution_count": null,
      "outputs": [
        {
          "output_type": "execute_result",
          "data": {
            "text/plain": [
              "(24141805, 2)"
            ]
          },
          "metadata": {
            "tags": []
          },
          "execution_count": 6
        }
      ]
    },
    {
      "cell_type": "code",
      "metadata": {
        "id": "iQs5XpEMtNYu"
      },
      "source": [
        "df_alerts = df_alerts.dropna()"
      ],
      "execution_count": null,
      "outputs": []
    },
    {
      "cell_type": "code",
      "metadata": {
        "colab": {
          "base_uri": "https://localhost:8080/"
        },
        "id": "XG0rzOMKCMzS",
        "outputId": "7f6d4662-bb9a-45a4-accf-a182a1512f72"
      },
      "source": [
        "df_alerts.shape"
      ],
      "execution_count": null,
      "outputs": [
        {
          "output_type": "execute_result",
          "data": {
            "text/plain": [
              "(7397216, 2)"
            ]
          },
          "metadata": {
            "tags": []
          },
          "execution_count": 15
        }
      ]
    },
    {
      "cell_type": "code",
      "metadata": {
        "id": "JrDJXEd8E4CE"
      },
      "source": [
        "df_alerts.columns =['text','labelName']"
      ],
      "execution_count": null,
      "outputs": []
    },
    {
      "cell_type": "code",
      "metadata": {
        "colab": {
          "base_uri": "https://localhost:8080/",
          "height": 197
        },
        "id": "qk3hj5dR47yZ",
        "outputId": "93ac6c29-000a-4fea-a2cf-af1291c240ba"
      },
      "source": [
        "df_alerts.sample(5)"
      ],
      "execution_count": null,
      "outputs": [
        {
          "output_type": "execute_result",
          "data": {
            "text/html": [
              "<div>\n",
              "<style scoped>\n",
              "    .dataframe tbody tr th:only-of-type {\n",
              "        vertical-align: middle;\n",
              "    }\n",
              "\n",
              "    .dataframe tbody tr th {\n",
              "        vertical-align: top;\n",
              "    }\n",
              "\n",
              "    .dataframe thead th {\n",
              "        text-align: right;\n",
              "    }\n",
              "</style>\n",
              "<table border=\"1\" class=\"dataframe\">\n",
              "  <thead>\n",
              "    <tr style=\"text-align: right;\">\n",
              "      <th></th>\n",
              "      <th>text</th>\n",
              "      <th>labelName</th>\n",
              "    </tr>\n",
              "  </thead>\n",
              "  <tbody>\n",
              "    <tr>\n",
              "      <th>14592173</th>\n",
              "      <td>HTTP: User Authentication Brute Force Attempt</td>\n",
              "      <td>false positive</td>\n",
              "    </tr>\n",
              "    <tr>\n",
              "      <th>16233459</th>\n",
              "      <td>WordPress Xmlrpc.php Remote Code Execution Vul...</td>\n",
              "      <td>true positive: benign</td>\n",
              "    </tr>\n",
              "    <tr>\n",
              "      <th>1801469</th>\n",
              "      <td>OpenSSL DTLS Buffer Overflow Vulnerability</td>\n",
              "      <td>false positive</td>\n",
              "    </tr>\n",
              "    <tr>\n",
              "      <th>22449405</th>\n",
              "      <td>SERVER-OTHER MRLG fastping echo reply memory c...</td>\n",
              "      <td>true positive: benign</td>\n",
              "    </tr>\n",
              "    <tr>\n",
              "      <th>12059559</th>\n",
              "      <td>Adobe ColdFusion Local File Include Code Execu...</td>\n",
              "      <td>true positive: benign</td>\n",
              "    </tr>\n",
              "  </tbody>\n",
              "</table>\n",
              "</div>"
            ],
            "text/plain": [
              "                                                       text              labelName\n",
              "14592173      HTTP: User Authentication Brute Force Attempt         false positive\n",
              "16233459  WordPress Xmlrpc.php Remote Code Execution Vul...  true positive: benign\n",
              "1801469          OpenSSL DTLS Buffer Overflow Vulnerability         false positive\n",
              "22449405  SERVER-OTHER MRLG fastping echo reply memory c...  true positive: benign\n",
              "12059559  Adobe ColdFusion Local File Include Code Execu...  true positive: benign"
            ]
          },
          "metadata": {
            "tags": []
          },
          "execution_count": 17
        }
      ]
    },
    {
      "cell_type": "code",
      "metadata": {
        "id": "951BqbNa3VGx"
      },
      "source": [
        "# Python program to Remove all  digits from a list of string \n",
        "import re \n",
        "docs = df_alerts['text'].tolist()  \n",
        "\n",
        "def remove(list):\n",
        "    try: \n",
        "       pattern = '[0-9]'\n",
        "       list = [re.sub(pattern, '', i) for i in list] \n",
        "       pattern = 'VID'\n",
        "       list = [re.sub(pattern, '', i) for i in list]\n",
        "    except:\n",
        "       return list \n",
        "    return list\n",
        "\n",
        "# now purge digits from alerts\n",
        "docs = remove(docs)\n",
        "df_alerts.text = docs"
      ],
      "execution_count": null,
      "outputs": []
    },
    {
      "cell_type": "code",
      "metadata": {
        "colab": {
          "base_uri": "https://localhost:8080/",
          "height": 197
        },
        "id": "GP1LYlrn5EV5",
        "outputId": "8e0398e9-7578-4c28-ee4e-6deef26129b3"
      },
      "source": [
        "df_alerts.sample(5)"
      ],
      "execution_count": null,
      "outputs": [
        {
          "output_type": "execute_result",
          "data": {
            "text/html": [
              "<div>\n",
              "<style scoped>\n",
              "    .dataframe tbody tr th:only-of-type {\n",
              "        vertical-align: middle;\n",
              "    }\n",
              "\n",
              "    .dataframe tbody tr th {\n",
              "        vertical-align: top;\n",
              "    }\n",
              "\n",
              "    .dataframe thead th {\n",
              "        text-align: right;\n",
              "    }\n",
              "</style>\n",
              "<table border=\"1\" class=\"dataframe\">\n",
              "  <thead>\n",
              "    <tr style=\"text-align: right;\">\n",
              "      <th></th>\n",
              "      <th>text</th>\n",
              "      <th>labelName</th>\n",
              "    </tr>\n",
              "  </thead>\n",
              "  <tbody>\n",
              "    <tr>\n",
              "      <th>21850473</th>\n",
              "      <td>Cisco Data Center Network Manager Directory Tr...</td>\n",
              "      <td>true positive: benign</td>\n",
              "    </tr>\n",
              "    <tr>\n",
              "      <th>7619760</th>\n",
              "      <td>InvalidUninstallGUID</td>\n",
              "      <td>false positive</td>\n",
              "    </tr>\n",
              "    <tr>\n",
              "      <th>7660540</th>\n",
              "      <td>InvalidUninstallGUID</td>\n",
              "      <td>false positive</td>\n",
              "    </tr>\n",
              "    <tr>\n",
              "      <th>6884851</th>\n",
              "      <td>SERVER-OTHER MRLG fastping echo reply memory c...</td>\n",
              "      <td>true positive: benign</td>\n",
              "    </tr>\n",
              "    <tr>\n",
              "      <th>7418448</th>\n",
              "      <td>SuspectActivityInPowerShellHistory</td>\n",
              "      <td>true positive: benign</td>\n",
              "    </tr>\n",
              "  </tbody>\n",
              "</table>\n",
              "</div>"
            ],
            "text/plain": [
              "                                                       text              labelName\n",
              "21850473  Cisco Data Center Network Manager Directory Tr...  true positive: benign\n",
              "7619760                                InvalidUninstallGUID         false positive\n",
              "7660540                                InvalidUninstallGUID         false positive\n",
              "6884851   SERVER-OTHER MRLG fastping echo reply memory c...  true positive: benign\n",
              "7418448                  SuspectActivityInPowerShellHistory  true positive: benign"
            ]
          },
          "metadata": {
            "tags": []
          },
          "execution_count": 19
        }
      ]
    },
    {
      "cell_type": "markdown",
      "metadata": {
        "id": "8kiuDxIZz_JC"
      },
      "source": [
        "# **Save dataframe to file for other applications**"
      ]
    },
    {
      "cell_type": "code",
      "metadata": {
        "colab": {
          "base_uri": "https://localhost:8080/"
        },
        "id": "oP-JRkAi18Bl",
        "outputId": "5c0710e9-73d1-4e33-9b63-34dcc75d9b72"
      },
      "source": [
        "import joblib\n",
        "joblib.dump(df_alerts,'df_alerts.joblib')"
      ],
      "execution_count": null,
      "outputs": [
        {
          "output_type": "execute_result",
          "data": {
            "text/plain": [
              "['df_alerts.joblib']"
            ]
          },
          "metadata": {
            "tags": []
          },
          "execution_count": 20
        }
      ]
    },
    {
      "cell_type": "code",
      "metadata": {
        "colab": {
          "base_uri": "https://localhost:8080/"
        },
        "id": "seivEBxrEath",
        "outputId": "515d0ec8-333f-451c-e821-998dc7a8552c"
      },
      "source": [
        "set(list(df_alerts.labelName))"
      ],
      "execution_count": null,
      "outputs": [
        {
          "output_type": "execute_result",
          "data": {
            "text/plain": [
              "{'false positive',\n",
              " 'false-positive',\n",
              " 'not actionable',\n",
              " 'not-actionable',\n",
              " 'true positive',\n",
              " 'true positive: benign',\n",
              " 'true positive: malicious',\n",
              " 'true-positive-benign',\n",
              " 'true-positive-malicious'}"
            ]
          },
          "metadata": {
            "tags": []
          },
          "execution_count": 14
        }
      ]
    },
    {
      "cell_type": "code",
      "metadata": {
        "colab": {
          "base_uri": "https://localhost:8080/"
        },
        "id": "nqUUu4pXIq3R",
        "outputId": "761aa247-084b-407a-9075-4708419aab27"
      },
      "source": [
        "# display sample \"TRUE POSITIVE MALICIOUS\" alerts\n",
        "df_malicious = df_alerts.loc[(df_alerts['labelName'] == 'true positive: malicious') |(df_alerts['labelName'] == 'true-positive: malicious')]\n",
        "pd.set_option('display.max_colwidth', 1000)\n",
        "with pd.option_context('display.max_rows', None, 'display.max_columns', None):  \n",
        "    print(df_malicious['text'].sample(10).head(10).to_string(index=False)) # sample randomly 10 alerts in this category"
      ],
      "execution_count": null,
      "outputs": [
        {
          "output_type": "stream",
          "text": [
            "                           HTTP Unauthorized Brute Force Attack\n",
            " Apache Struts Content-Type Remote Code Execution Vulnerability\n",
            "          Powershell invoking code from an environment variable\n",
            "                                   PowerShell Decodes WMI Class\n",
            " Apache Struts Content-Type Remote Code Execution Vulnerability\n",
            "                                    Powershell Encoded Command \n",
            "                           HTTP Unauthorized Brute Force Attack\n",
            "                                      TrickbotConfigsAndModules\n",
            "                                      TrickbotConfigsAndModules\n",
            "                                      TrickbotConfigsAndModules\n"
          ],
          "name": "stdout"
        }
      ]
    },
    {
      "cell_type": "code",
      "metadata": {
        "colab": {
          "base_uri": "https://localhost:8080/"
        },
        "id": "FgsxQ9NMKmNq",
        "outputId": "f710d6e1-5cb0-4928-de79-e0f7540dfb0f"
      },
      "source": [
        "# display sample \"TRUE POSITIVE BENIGN\" alerts\n",
        "df_benign = df_alerts.loc[(df_alerts['labelName'] == 'true positive') |(df_alerts['labelName'] == 'true positive: benign') | (df_alerts['labelName'] == 'true-positive: benign')]\n",
        "pd.set_option('display.max_colwidth', 1000)\n",
        "with pd.option_context('display.max_rows', None, 'display.max_columns', None):  \n",
        "    print(df_benign['text'].sample(10).head(10).to_string(index=False)) # sample randomly 10 alerts in this category"
      ],
      "execution_count": null,
      "outputs": [
        {
          "output_type": "stream",
          "text": [
            "          MALWARE-CNC Win.Dropper.Brusha malicious payload download attempt\n",
            "            SERVER-OTHER MRLG fastping echo reply memory corruption attempt\n",
            "   Oracle WebLogic Server Console RCE Attempt GET Request (CVE--) - Inbound\n",
            "             POLICY-OTHER Microsoft Active Directory DSGetNCChanges attempt\n",
            "        Cisco Data Center Network Manager Directory Traversal Vulnerability\n",
            "              Adobe ColdFusion Multiple Directory Traversal Vulnerabilities\n",
            "                           POLICY-OTHER HTTP request by IPv address attempt\n",
            "                                                                           \n",
            "         ... was identified as a malicious IP on the CTU Protection IP List\n",
            "                                 OpenSSL DTLS Buffer Overflow Vulnerability\n"
          ],
          "name": "stdout"
        }
      ]
    },
    {
      "cell_type": "code",
      "metadata": {
        "colab": {
          "base_uri": "https://localhost:8080/"
        },
        "id": "GNkdw7hmLhWI",
        "outputId": "924ffe48-ec81-4e1b-d0f2-1e5b4fbc4702"
      },
      "source": [
        "# display sample \"FALSE POSITIVE\" alerts\n",
        "df_false_positive = df_alerts.loc[(df_alerts['labelName'] == 'false positive') | (df_alerts['labelName'] == 'false-positive')]\n",
        "pd.set_option('display.max_colwidth', 1000)\n",
        "with pd.option_context('display.max_rows', None, 'display.max_columns', None):  \n",
        "    print(df_false_positive['text'].sample(10).head(10).to_string(index=False)) # sample randomly 10 alerts in this category"
      ],
      "execution_count": null,
      "outputs": [
        {
          "output_type": "stream",
          "text": [
            " Renamed Windows Scripting Host Running Suspicious JavaScript\n",
            "                                         InvalidUninstallGUID\n",
            "                       Emotet Trojan Running Nirsoft Command \n",
            "                       Emotet Trojan Running Nirsoft Command \n",
            "                                         InvalidUninstallGUID\n",
            "                                         InvalidUninstallGUID\n",
            "                                         InvalidUninstallGUID\n",
            "                                         InvalidUninstallGUID\n",
            "                                         InvalidUninstallGUID\n",
            "                                         InvalidUninstallGUID\n"
          ],
          "name": "stdout"
        }
      ]
    },
    {
      "cell_type": "code",
      "metadata": {
        "colab": {
          "base_uri": "https://localhost:8080/"
        },
        "id": "wbyxamlGOHH4",
        "outputId": "aaa1ad7a-d40a-4daf-9a9f-4093f2dbd432"
      },
      "source": [
        "# display sample \"FALSE POSITIVE\" alerts\n",
        "df_not_actionable = df_alerts.loc[(df_alerts['labelName'] == 'not actionable') | (df_alerts['labelName'] == 'not-actionable')]\n",
        "pd.set_option('display.max_colwidth', 1000)\n",
        "with pd.option_context('display.max_rows', None, 'display.max_columns', None):  \n",
        "    print(df_not_actionable['text'].sample(10).head(10).to_string(index=False)) # sample randomly 10 alerts in this category"
      ],
      "execution_count": null,
      "outputs": [
        {
          "output_type": "stream",
          "text": [
            "              Joomla! .. com_fields SQL Injection Attempt - HTTP GET Inbound\n",
            "                                     SIP INVITE Method Request Flood Attempt\n",
            "                            Anonymous Sharing Activity - Used Anonymous Link\n",
            "                         HTTP Unix Shell IFS Remote Code Execution Detection\n",
            "                            Anonymous Sharing Activity - Used Anonymous Link\n",
            "                                        Squid Integer Overflow Vulnerability\n",
            " Netis/Netcore Router Default Credential Remote Code Execution Vulnerability\n",
            "                                        LDAP: User Login Brute Force Attempt\n",
            "                    Suspicious WebDAV OPTIONS Request to /admin\\$ - Outbound\n",
            "                                      SMB: User Password Brute Force Attempt\n"
          ],
          "name": "stdout"
        }
      ]
    },
    {
      "cell_type": "code",
      "metadata": {
        "id": "qAcuG7SLXkWv"
      },
      "source": [
        "# map targets to numberic\n",
        "def binary_classes(t):\n",
        "  if t == 'true positive: malicious' or t == 'true-positive-malicious':\n",
        "     return 1\n",
        "  else:  \n",
        "    return 0\n",
        "\n",
        "def multi_classes(t):\n",
        "   if t == 'false positive' or t == 'false-positive':\n",
        "     return 0\n",
        "   elif t == 'true positive: benign' or t == 'true-positive-benign':\n",
        "     return 1\n",
        "   elif t == 'not actionable' or t == 'not-actionable':\n",
        "     return 2\n",
        "   else:  #t == 'true positive: malicious' or t == 'true-positive-malicious':\n",
        "    return 3"
      ],
      "execution_count": null,
      "outputs": []
    },
    {
      "cell_type": "code",
      "metadata": {
        "colab": {
          "base_uri": "https://localhost:8080/"
        },
        "id": "53i6QNPSXmN-",
        "outputId": "af5864db-3c28-4d51-95eb-40d436ee0809"
      },
      "source": [
        "target = df_alerts['labelName'].tolist()\n",
        "Class = 2    # flag for choosing between binary =1/multiclass=0 classifier\n",
        "if Class == 2:\n",
        "  y = [binary_classes(x) for x in target]\n",
        "else:\n",
        "  y = [multi_classes(x) for x in target]\n",
        "\n",
        "from sklearn.preprocessing import OneHotEncoder\n",
        "print('Vectorizing Y labels...')\n",
        "y=np.array(y)\n",
        "y_encoded = to_categorical(y)"
      ],
      "execution_count": null,
      "outputs": [
        {
          "output_type": "stream",
          "text": [
            "Vectorizing Y labels...\n"
          ],
          "name": "stdout"
        }
      ]
    },
    {
      "cell_type": "code",
      "metadata": {
        "colab": {
          "base_uri": "https://localhost:8080/"
        },
        "id": "DVwN35Mvt9az",
        "outputId": "e31bc942-a8f5-416d-dea3-c301059180cf"
      },
      "source": [
        "\n",
        "# Separate majority and minority classes\n",
        "df = df_alerts\n",
        "df['balance'] = y\n",
        "\n",
        "df_majority = df[df.balance==0]\n",
        "df_minority = df[df.balance==1]\n",
        " \n",
        "# Downsample majority class\n",
        "df_majority_downsampled = resample(df_majority, \n",
        "                                 replace=False,    # sample without replacement\n",
        "                                 n_samples=73652,     # to match minority class\n",
        "                                 random_state=123) # reproducible results\n",
        " from sklearn.utils import resample\n",
        "# Combine minority class with downsampled majority class\n",
        "df_downsampled = pd.concat([df_majority_downsampled, df_minority])\n",
        " \n",
        "# Display new class counts\n",
        "df_downsampled.balance.value_counts()\n",
        "# 1    73652\n",
        "# 0    73652\n",
        "# Name: balance, dtype: int64"
      ],
      "execution_count": null,
      "outputs": [
        {
          "output_type": "execute_result",
          "data": {
            "text/plain": [
              "0    73652\n",
              "1    73014\n",
              "Name: balance, dtype: int64"
            ]
          },
          "metadata": {
            "tags": []
          },
          "execution_count": 22
        }
      ]
    },
    {
      "cell_type": "code",
      "metadata": {
        "colab": {
          "base_uri": "https://localhost:8080/"
        },
        "id": "v25we7ZO0AQ2",
        "outputId": "8c860002-cf5c-4800-89d1-5f18971947a0"
      },
      "source": [
        "list(y).count(1)"
      ],
      "execution_count": null,
      "outputs": [
        {
          "output_type": "execute_result",
          "data": {
            "text/plain": [
              "73014"
            ]
          },
          "metadata": {
            "tags": []
          },
          "execution_count": 23
        }
      ]
    },
    {
      "cell_type": "code",
      "metadata": {
        "colab": {
          "base_uri": "https://localhost:8080/"
        },
        "id": "iejgk95fyLiM",
        "outputId": "00c0fa78-90d7-40dd-b1ab-85f3e4a6ae70"
      },
      "source": [
        "from sklearn.utils import resample\n",
        "# Separate majority and minority classes\n",
        "df = df_alerts\n",
        "df['balance'] = y\n",
        "df_majority = df[df.balance==0]\n",
        "df_minority = df[df.balance==1]\n",
        " \n",
        "# Upsample minority class\n",
        "df_minority_upsampled = resample(df_minority, \n",
        "                                 replace=True,     # sample with replacement\n",
        "                                 n_samples=7323564,    # to match majority class\n",
        "                                 random_state=123) # reproducible results\n",
        " \n",
        "# Combine majority class with upsampled minority class\n",
        "df_upsampled = pd.concat([df_majority, df_minority_upsampled])\n",
        " \n",
        "# Display new class counts\n",
        "df_upsampled.balance.value_counts()\n",
        "# 1    576\n",
        "# 0    576\n",
        "# Name: balance, dtype: int64"
      ],
      "execution_count": null,
      "outputs": [
        {
          "output_type": "execute_result",
          "data": {
            "text/plain": [
              "0    7324202\n",
              "1    7323564\n",
              "Name: balance, dtype: int64"
            ]
          },
          "metadata": {
            "tags": []
          },
          "execution_count": 24
        }
      ]
    },
    {
      "cell_type": "markdown",
      "metadata": {
        "id": "sAL7P-nkZRrK"
      },
      "source": [
        "**Train/Test Split:**"
      ]
    },
    {
      "cell_type": "code",
      "metadata": {
        "id": "oTHTQbJ7ZPjJ"
      },
      "source": [
        "from sklearn.model_selection import train_test_split\n",
        "X_train, X_test, y_train, y_test = train_test_split(df_alerts['text'], y, test_size=0.1, random_state=np.random.seed(7))\n",
        "#X_train, X_test, y_train, y_test = train_test_split(df_downsampled['text'], df_downsampled['balance'], test_size=0.1, random_state=np.random.seed(7))\n",
        "n_classes = len(set(y))"
      ],
      "execution_count": null,
      "outputs": []
    },
    {
      "cell_type": "code",
      "metadata": {
        "colab": {
          "base_uri": "https://localhost:8080/"
        },
        "id": "5lh3mA3f8pg2",
        "outputId": "af1251aa-8c4f-4c9c-9280-31051effd8d6"
      },
      "source": [
        "df_alerts.text"
      ],
      "execution_count": null,
      "outputs": [
        {
          "output_type": "execute_result",
          "data": {
            "text/plain": [
              "0                                                                                        Suspicious powershell.exe in HTTP URI - Inbound\n",
              "1                                            SSLv Large Heartbeat Content Detected (from_client) - Possible OpenSSL Exploitation (CVE--)\n",
              "6           A process using Force Data Execution Prevention (Force DEP) tried to execute non-executable memory. The process was blocked.\n",
              "10          A process using Force Data Execution Prevention (Force DEP) tried to execute non-executable memory. The process was blocked.\n",
              "11          A process using Force Data Execution Prevention (Force DEP) tried to execute non-executable memory. The process was blocked.\n",
              "                                                                        ...                                                             \n",
              "24141779                                                                                                      Impossible travel activity\n",
              "24141780                                                                                                   Rundll Launches Non-DLL File \n",
              "24141781                                                                                                   Rundll Launches Non-DLL File \n",
              "24141782                                                                                                            Anonymous IP address\n",
              "24141783                                                                                                   Rundll Launches Non-DLL File \n",
              "Name: text, Length: 7397216, dtype: object"
            ]
          },
          "metadata": {
            "tags": []
          },
          "execution_count": 24
        }
      ]
    },
    {
      "cell_type": "markdown",
      "metadata": {
        "id": "m_xwDwZoYlwC"
      },
      "source": [
        "**TFIDF Vectorization of X_train:**"
      ]
    },
    {
      "cell_type": "code",
      "metadata": {
        "colab": {
          "base_uri": "https://localhost:8080/"
        },
        "id": "Pgnh9FNEYKVB",
        "outputId": "f31ed8c9-8da5-4272-fed8-cff0b32b7111"
      },
      "source": [
        "from sklearn.feature_extraction.text import TfidfVectorizer\n",
        "vectorizer = TfidfVectorizer(\n",
        "    max_df=.95,\n",
        "    min_df=2,\n",
        "    max_features=None,\n",
        "    ngram_range=(1,3),\n",
        "    norm=None,\n",
        "    binary=True,\n",
        "    use_idf=True,\n",
        "    stop_words=['microsoft','securework'],\n",
        "    sublinear_tf=False\n",
        ")\n",
        "vectorizer = vectorizer.fit(X_train)\n",
        "tfidf = vectorizer.transform(X_train)\n",
        "vocab = vectorizer.get_feature_names()\n",
        "print(len(vocab)) # dictionary size"
      ],
      "execution_count": null,
      "outputs": [
        {
          "output_type": "stream",
          "text": [
            "23094\n"
          ],
          "name": "stdout"
        }
      ]
    },
    {
      "cell_type": "code",
      "metadata": {
        "colab": {
          "base_uri": "https://localhost:8080/"
        },
        "id": "fBEf2RbbYTWI",
        "outputId": "4e6712e3-528a-4fcc-fdce-e934c17fa0d6"
      },
      "source": [
        "!pip install corextopic"
      ],
      "execution_count": null,
      "outputs": [
        {
          "output_type": "stream",
          "text": [
            "Collecting corextopic\n",
            "  Downloading https://files.pythonhosted.org/packages/64/1d/b2a320090c91e67dd93a7e6715794a126b1a56c643824444c952b303dc0a/corextopic-1.0.6-py3-none-any.whl\n",
            "Installing collected packages: corextopic\n",
            "Successfully installed corextopic-1.0.6\n"
          ],
          "name": "stdout"
        }
      ]
    },
    {
      "cell_type": "markdown",
      "metadata": {
        "id": "fLFA3k7ha53j"
      },
      "source": [
        "# Train CorEx Topic Model with alert topic archors\n",
        "\n",
        "Anchored CorEx allows a user to anchor words to topics in a semi-supervised fashion to uncover otherwise elusive topics.\n",
        "---\n",
        "\n"
      ]
    },
    {
      "cell_type": "code",
      "metadata": {
        "id": "VU-7TKQiZC3i"
      },
      "source": [
        "# Anchors designed to nudge the model towards measuring specific genres\n",
        "# https://notebook.community/gregversteeg/corex_topic/corextopic/example/corex_topic_example\n",
        "from corextopic import corextopic as ct\n",
        "num_of_topics = 4\n",
        "anchor_words = [\n",
        "    [\"exploit\", \"blacklist\", 'powershell'],\n",
        "    [\"outbound\",\"vulnerability\"],\n",
        "    [\"buffer\", \"overflow\"],\n",
        "    [\"flood\",\"attempt\"],\n",
        "]\n",
        "'''\n",
        "anchors = [\n",
        "    [a for a in topic if a in vocab]\n",
        "    for topic in anchors\n",
        "]\n",
        "'''\n",
        "model = ct.Corex(n_hidden=num_of_topics, seed=42)\n",
        "model = model.fit(\n",
        "    tfidf,\n",
        "    words=vocab,\n",
        "    anchors=anchor_words, # Pass the anchors in here\n",
        "    anchor_strength=6 # Tell the model how much it should rely on the anchors\n",
        ")"
      ],
      "execution_count": null,
      "outputs": []
    },
    {
      "cell_type": "code",
      "metadata": {
        "id": "sURbVyKMZd62"
      },
      "source": [
        "# Now show topic distribution within the each alert\n",
        "topic_df = pd.DataFrame(\n",
        "    model.transform(tfidf), \n",
        "    columns=[\"topic_{}\".format(i+1) for i in range(num_of_topics)]\n",
        ").astype(float)\n",
        "topic_df.index = X_train.index\n",
        "df = pd.concat([df_alerts, topic_df], axis=1)"
      ],
      "execution_count": null,
      "outputs": []
    },
    {
      "cell_type": "code",
      "metadata": {
        "colab": {
          "base_uri": "https://localhost:8080/"
        },
        "id": "e9b1H_jW-bb7",
        "outputId": "3bf472a6-bb96-41fe-a41e-c8d0944297ee"
      },
      "source": [
        "# show topics for trained sample at 1860 index. NEED A WAY TO PREDICT ON NEW DATA\n",
        "model.transform(tfidf[1260])"
      ],
      "execution_count": null,
      "outputs": [
        {
          "output_type": "execute_result",
          "data": {
            "text/plain": [
              "array([[ True, False, False, False]])"
            ]
          },
          "metadata": {
            "tags": []
          },
          "execution_count": 27
        }
      ]
    },
    {
      "cell_type": "code",
      "metadata": {
        "colab": {
          "base_uri": "https://localhost:8080/"
        },
        "id": "XNmZuEYG1Lt4",
        "outputId": "28c58984-85ce-4cd4-d0a2-4adf5d3eb022"
      },
      "source": [
        "d_cloud = pd.DataFrame() \n",
        "for i, topic_ngrams in enumerate(model.get_topics(n_words=10)):\n",
        "    topic_ngrams = [ngram[0] for ngram in topic_ngrams if ngram[1] > 0]\n",
        "    print(\"Topic #{}: {}\".format(i+1, \", \".join(topic_ngrams)))\n",
        "    d_cloud[str(i+1)] = pd.Series(topic_ngrams)"
      ],
      "execution_count": null,
      "outputs": [
        {
          "output_type": "stream",
          "text": [
            "Topic #1: powershell, exploit, wmi, encoded, encoded powershell, wmi launches, powershell command, launches encoded, class, decodes wmi\n",
            "Topic #2: vulnerability, outbound, remote, execution, code execution, execution vulnerability, remote code, struts, apache struts, apache\n",
            "Topic #3: overflow, buffer, overflow vulnerability, buffer overflow, openssl dtls, dtls, dtls buffer, openssl, integer overflow, squid integer\n",
            "Topic #4: attempt, force attempt, user, authentication brute, user authentication, other, authentication, http user, brute\n"
          ],
          "name": "stdout"
        }
      ]
    },
    {
      "cell_type": "code",
      "metadata": {
        "colab": {
          "base_uri": "https://localhost:8080/",
          "height": 347
        },
        "id": "QDF8dXuY4CQ6",
        "outputId": "b0df6f76-02f3-4267-f392-1f2c995325ee"
      },
      "source": [
        "topic_ngrams\n",
        "d_cloud"
      ],
      "execution_count": null,
      "outputs": [
        {
          "output_type": "execute_result",
          "data": {
            "text/html": [
              "<div>\n",
              "<style scoped>\n",
              "    .dataframe tbody tr th:only-of-type {\n",
              "        vertical-align: middle;\n",
              "    }\n",
              "\n",
              "    .dataframe tbody tr th {\n",
              "        vertical-align: top;\n",
              "    }\n",
              "\n",
              "    .dataframe thead th {\n",
              "        text-align: right;\n",
              "    }\n",
              "</style>\n",
              "<table border=\"1\" class=\"dataframe\">\n",
              "  <thead>\n",
              "    <tr style=\"text-align: right;\">\n",
              "      <th></th>\n",
              "      <th>1</th>\n",
              "      <th>2</th>\n",
              "      <th>3</th>\n",
              "      <th>4</th>\n",
              "    </tr>\n",
              "  </thead>\n",
              "  <tbody>\n",
              "    <tr>\n",
              "      <th>0</th>\n",
              "      <td>powershell</td>\n",
              "      <td>vulnerability</td>\n",
              "      <td>overflow</td>\n",
              "      <td>attempt</td>\n",
              "    </tr>\n",
              "    <tr>\n",
              "      <th>1</th>\n",
              "      <td>exploit</td>\n",
              "      <td>outbound</td>\n",
              "      <td>buffer</td>\n",
              "      <td>force attempt</td>\n",
              "    </tr>\n",
              "    <tr>\n",
              "      <th>2</th>\n",
              "      <td>wmi</td>\n",
              "      <td>remote</td>\n",
              "      <td>overflow vulnerability</td>\n",
              "      <td>user</td>\n",
              "    </tr>\n",
              "    <tr>\n",
              "      <th>3</th>\n",
              "      <td>encoded</td>\n",
              "      <td>execution</td>\n",
              "      <td>buffer overflow</td>\n",
              "      <td>authentication brute</td>\n",
              "    </tr>\n",
              "    <tr>\n",
              "      <th>4</th>\n",
              "      <td>encoded powershell</td>\n",
              "      <td>code execution</td>\n",
              "      <td>openssl dtls</td>\n",
              "      <td>user authentication</td>\n",
              "    </tr>\n",
              "    <tr>\n",
              "      <th>5</th>\n",
              "      <td>wmi launches</td>\n",
              "      <td>execution vulnerability</td>\n",
              "      <td>dtls</td>\n",
              "      <td>other</td>\n",
              "    </tr>\n",
              "    <tr>\n",
              "      <th>6</th>\n",
              "      <td>powershell command</td>\n",
              "      <td>remote code</td>\n",
              "      <td>dtls buffer</td>\n",
              "      <td>authentication</td>\n",
              "    </tr>\n",
              "    <tr>\n",
              "      <th>7</th>\n",
              "      <td>launches encoded</td>\n",
              "      <td>struts</td>\n",
              "      <td>openssl</td>\n",
              "      <td>http user</td>\n",
              "    </tr>\n",
              "    <tr>\n",
              "      <th>8</th>\n",
              "      <td>class</td>\n",
              "      <td>apache struts</td>\n",
              "      <td>integer overflow</td>\n",
              "      <td>brute</td>\n",
              "    </tr>\n",
              "    <tr>\n",
              "      <th>9</th>\n",
              "      <td>decodes wmi</td>\n",
              "      <td>apache</td>\n",
              "      <td>squid integer</td>\n",
              "      <td>NaN</td>\n",
              "    </tr>\n",
              "  </tbody>\n",
              "</table>\n",
              "</div>"
            ],
            "text/plain": [
              "                    1  ...                     4\n",
              "0          powershell  ...               attempt\n",
              "1             exploit  ...         force attempt\n",
              "2                 wmi  ...                  user\n",
              "3             encoded  ...  authentication brute\n",
              "4  encoded powershell  ...   user authentication\n",
              "5        wmi launches  ...                 other\n",
              "6  powershell command  ...        authentication\n",
              "7    launches encoded  ...             http user\n",
              "8               class  ...                 brute\n",
              "9         decodes wmi  ...                   NaN\n",
              "\n",
              "[10 rows x 4 columns]"
            ]
          },
          "metadata": {
            "tags": []
          },
          "execution_count": 29
        }
      ]
    },
    {
      "cell_type": "markdown",
      "metadata": {
        "id": "UTNNrQslpWs6"
      },
      "source": [
        "# **Word Cloud:**\n",
        "Word Cloud is a data visualization technique used for representing text data in which the size of each word indicates its frequency or importance. Significant textual data points can be highlighted using a word cloud. Word clouds are widely used for analyzing data from social network websites such as twitter."
      ]
    },
    {
      "cell_type": "code",
      "metadata": {
        "colab": {
          "base_uri": "https://localhost:8080/",
          "height": 523
        },
        "id": "BHZ6DAE0pZu0",
        "outputId": "aab84439-1dc0-4b03-d2f8-a345aba7dae7"
      },
      "source": [
        "import matplotlib.pyplot as plt\n",
        "from wordcloud import WordCloud, STOPWORDS \n",
        "import matplotlib.pyplot as plt \n",
        "fig = plt.figure(figsize=(14,14))\n",
        "for i in range(num_of_topics):\n",
        "    ax = fig.add_subplot(3,3,i+1)\n",
        "    comment_words = '' \n",
        "    stopwords = set(STOPWORDS)\n",
        "    for val in d_cloud.iloc[:, i]:      \n",
        "        val = str(val) \n",
        "        # split the value \n",
        "        tokens = val.split()     \n",
        "        comment_words += \" \".join(tokens)+\" \" \n",
        "    wordcloud = WordCloud(width = 400, height = 400, \n",
        "                background_color ='white', \n",
        "                stopwords = stopwords, \n",
        "                min_font_size = 10).generate(comment_words) \n",
        "    \n",
        "    ax.imshow(wordcloud)\n",
        "    ax.axis('off')"
      ],
      "execution_count": null,
      "outputs": [
        {
          "output_type": "display_data",
          "data": {
            "image/png": "[encoded data removed]",
            "text/plain": [
              "<Figure size 1008x1008 with 4 Axes>"
            ]
          },
          "metadata": {
            "tags": [],
            "needs_background": "light"
          }
        }
      ]
    },
    {
      "cell_type": "markdown",
      "metadata": {
        "id": "RERymsHT8t-x"
      },
      "source": [
        "\n",
        "If you have graphviz installed, then you can output visualizations of the hierarchial topic model to your current working directory. One can also create custom visualizations of the hierarchy by properly making use of the labels attribute of each layer."
      ]
    },
    {
      "cell_type": "code",
      "metadata": {
        "id": "OhoeJRgA4Jr3"
      },
      "source": [
        "#from corextopic import vis_topic as vt\n",
        "#vt.vis_rep(model, column_label=vocab, prefix='topic-model-example')"
      ],
      "execution_count": null,
      "outputs": []
    },
    {
      "cell_type": "markdown",
      "metadata": {
        "id": "Qe2__ClfqyFJ"
      },
      "source": [
        "#**With Two Topic Archors:**"
      ]
    },
    {
      "cell_type": "code",
      "metadata": {
        "id": "Y9DOPAiJq-A9"
      },
      "source": [
        "# Anchors designed to nudge the model towards measuring specific genres\n",
        "from corextopic import corextopic as ct\n",
        "num_of_topics = 2\n",
        "\n",
        "anchor_words = [[\"brute force\",\"powershell command\",\"blacklist hit\"],[\"overflow vulnerability\"]]\n",
        "\n",
        "model = ct.Corex(n_hidden=num_of_topics, max_iter=600,seed=42,verbose=False)\n",
        "\n",
        "model = model.fit(\n",
        "    tfidf,\n",
        "    words=vocab,\n",
        "    anchors=anchor_words, # Pass the anchors in here\n",
        "    anchor_strength=50 # Tell the model how much it should rely on the anchors\n",
        ")"
      ],
      "execution_count": null,
      "outputs": []
    },
    {
      "cell_type": "code",
      "metadata": {
        "colab": {
          "base_uri": "https://localhost:8080/"
        },
        "id": "BrrQk2i4rPvc",
        "outputId": "810adf73-b3fd-4766-bc0c-febea8cd8ae2"
      },
      "source": [
        "d_cloud = pd.DataFrame() \n",
        "for i, topic_ngrams in enumerate(model.get_topics(n_words=10)):\n",
        "    topic_ngrams = [ngram[0] for ngram in topic_ngrams if ngram[1] > 0]\n",
        "    print(\"Topic #{}: {}\".format(i+1, \", \".join(topic_ngrams)))\n",
        "    d_cloud[str(i+1)] = pd.Series(topic_ngrams)"
      ],
      "execution_count": null,
      "outputs": [
        {
          "output_type": "stream",
          "text": [
            "Topic #1: brute force, brute, force, force attempt, brute force attempt, user, powershell command, authentication brute force, authentication brute, user authentication brute\n",
            "Topic #2: overflow vulnerability, overflow, buffer overflow vulnerability, buffer overflow, buffer, openssl dtls buffer, dtls buffer, dtls buffer overflow, openssl dtls, dtls\n"
          ],
          "name": "stdout"
        }
      ]
    },
    {
      "cell_type": "markdown",
      "metadata": {
        "id": "wqynWS6Wsei_"
      },
      "source": [
        "#**Two Topic Word Cloud:**"
      ]
    },
    {
      "cell_type": "code",
      "metadata": {
        "colab": {
          "base_uri": "https://localhost:8080/",
          "height": 254
        },
        "id": "v591KvJZshSE",
        "outputId": "e779be6b-a955-4d52-f319-755ba8371eaf"
      },
      "source": [
        "import matplotlib.pyplot as plt\n",
        "from wordcloud import WordCloud, STOPWORDS \n",
        "import matplotlib.pyplot as plt \n",
        "fig = plt.figure(figsize=(14,14))\n",
        "for i in range(num_of_topics):\n",
        "    ax = fig.add_subplot(3,3,i+1)\n",
        "    comment_words = '' \n",
        "    stopwords = set(STOPWORDS)\n",
        "    for val in d_cloud.iloc[:, i]:      \n",
        "        val = str(val) \n",
        "        # split the value \n",
        "        tokens = val.split()     \n",
        "        comment_words += \" \".join(tokens)+\" \" \n",
        "    wordcloud = WordCloud(width = 400, height = 400, \n",
        "                background_color ='white', \n",
        "                stopwords = stopwords, \n",
        "                min_font_size = 10).generate(comment_words) \n",
        "    \n",
        "    ax.imshow(wordcloud)\n",
        "    ax.axis('off')"
      ],
      "execution_count": null,
      "outputs": [
        {
          "output_type": "display_data",
          "data": {
            "image/png": "[encoded data removed]",
            "text/plain": [
              "<Figure size 1008x1008 with 2 Axes>"
            ]
          },
          "metadata": {
            "tags": [],
            "needs_background": "light"
          }
        }
      ]
    },
    {
      "cell_type": "markdown",
      "metadata": {
        "id": "6EKGJx3eSKxJ"
      },
      "source": [
        "#**Predict Topic on New Data:**\n",
        "\n",
        "**TFIDF Vectorization of X_test:**"
      ]
    },
    {
      "cell_type": "code",
      "metadata": {
        "colab": {
          "base_uri": "https://localhost:8080/"
        },
        "id": "lBcaq7NqS4Uc",
        "outputId": "0a43f43f-abf8-4903-f41c-5ad9e74ac33c"
      },
      "source": [
        "X_test.head()"
      ],
      "execution_count": null,
      "outputs": [
        {
          "output_type": "execute_result",
          "data": {
            "text/plain": [
              "3624559                                                                         Email Link\n",
              "12104485    The application explorer.exe injected code into another process (runonce.exe).\n",
              "6879318                    SERVER-OTHER MRLG fastping echo reply memory corruption attempt\n",
              "6748008                    SERVER-OTHER MRLG fastping echo reply memory corruption attempt\n",
              "1722294                                                 SuspectActivityInPowerShellHistory\n",
              "Name: text, dtype: object"
            ]
          },
          "metadata": {
            "tags": []
          },
          "execution_count": 33
        }
      ]
    },
    {
      "cell_type": "markdown",
      "metadata": {
        "id": "exOcz1qRW0EK"
      },
      "source": [
        "The topic words are those with the highest mutual information with the topic, rather than \n",
        "those with highest probability within the topic as in LDA. The mutual information with the \n",
        "topic is the number reported in each tuple. Theoretically, mutual information is always positive. \n",
        "If the CorEx output returns a negative mutual information from get_topics(), then the absolute \n",
        "value of that quantity is the mutual information between the topic and the absence of that word."
      ]
    },
    {
      "cell_type": "code",
      "metadata": {
        "id": "M7JnpK26Y9JW"
      },
      "source": [
        "!pip install fuzzywuzzy"
      ],
      "execution_count": null,
      "outputs": []
    },
    {
      "cell_type": "code",
      "metadata": {
        "id": "WLDrECHRYliV"
      },
      "source": [
        "from fuzzywuzzy import fuzz\n",
        "def prediction_module(X):\n",
        "    topics = model.get_topics(n_words=10)\n",
        "    L = dict()\n",
        "    scores = dict()\n",
        "    y_count = dict()\n",
        "    y_sum = dict()\n",
        "    y_pred = []\n",
        "    K  = dict()\n",
        "    for n, topic in enumerate(topics):\n",
        "        L[n] = [i[0] for i in topic]\n",
        "        scores[n] = [i[1] for i in topic]\n",
        "\n",
        "    for k,item in enumerate(list(X)):  # now score each word in X_test and determine topic for alert\n",
        "        #s = [x.lower() for x in item.split()]\n",
        "        #print(k)\n",
        "        s = item.lower()\n",
        "        for n,topic in enumerate(topics):\n",
        "          N = [i for i, j in enumerate(L[n]) if fuzz.ratio(j,s) > 25]\n",
        "          score = [scores[n][i] for i in N]\n",
        "          y_count[n] = sum([1 for x in score if x > 0 ])\n",
        "          y_sum[n] = sum([x for x in score if x > 0 ])\n",
        "        if y_count[0]  >= 3 and round(y_sum[0],2) > 1.1:  \n",
        "          #print(y_count[0])\n",
        "          print(y_sum[0])\n",
        "          #print(score)\n",
        "          y_pred.append(1) #topic zero is malicious\n",
        "        else:\n",
        "          y_pred.append(0)\n",
        "    return y_pred   "
      ],
      "execution_count": null,
      "outputs": []
    },
    {
      "cell_type": "code",
      "metadata": {
        "id": "3nbKHDmCal9b"
      },
      "source": [
        "# verify ordering with list(y_pred).count(1) with list(y_pred).count(1)\n",
        "y_pred = prediction_module(X_train[1:10000])\n",
        "y_pred.count(1)"
      ],
      "execution_count": null,
      "outputs": []
    },
    {
      "cell_type": "code",
      "metadata": {
        "colab": {
          "base_uri": "https://localhost:8080/"
        },
        "id": "tfVC2a6xcYlY",
        "outputId": "18a8bb54-965d-4b05-89e6-e2c0116fa0cd"
      },
      "source": [
        "fuzz.ratio(\"large hearbeat\",X_train[1].lower())"
      ],
      "execution_count": null,
      "outputs": [
        {
          "output_type": "execute_result",
          "data": {
            "text/plain": [
              "26"
            ]
          },
          "metadata": {
            "tags": []
          },
          "execution_count": 35
        }
      ]
    },
    {
      "cell_type": "code",
      "metadata": {
        "colab": {
          "base_uri": "https://localhost:8080/"
        },
        "id": "o0lzQfXZMtob",
        "outputId": "90433965-7c73-4b8b-a0ed-c68fafd7cd81"
      },
      "source": [
        "list(y_train[1:10000]).count(1)"
      ],
      "execution_count": null,
      "outputs": [
        {
          "output_type": "execute_result",
          "data": {
            "text/plain": [
              "115"
            ]
          },
          "metadata": {
            "tags": []
          },
          "execution_count": 34
        }
      ]
    },
    {
      "cell_type": "code",
      "metadata": {
        "colab": {
          "base_uri": "https://localhost:8080/"
        },
        "id": "7HWBLuBHThNE",
        "outputId": "f1f750f3-db14-494d-eeb9-8e3b3088385a"
      },
      "source": [
        "from sklearn.metrics import confusion_matrix\n",
        "cm = confusion_matrix(y_train[1:10000], y_pred,normalize='true')\n",
        "cm"
      ],
      "execution_count": null,
      "outputs": [
        {
          "output_type": "execute_result",
          "data": {
            "text/plain": [
              "array([[0.9029745 , 0.0970255 ],\n",
              "       [0.64347826, 0.35652174]])"
            ]
          },
          "metadata": {
            "tags": []
          },
          "execution_count": 72
        }
      ]
    },
    {
      "cell_type": "code",
      "metadata": {
        "colab": {
          "base_uri": "https://localhost:8080/",
          "height": 294
        },
        "id": "AKKlo5QlK7Bi",
        "outputId": "a2dfa930-1154-4fd1-b7af-157d2d2db2ff"
      },
      "source": [
        "from sklearn.metrics import roc_curve\n",
        "fpr, tpr, _ = roc_curve(y_train[1:10000], y_pred)\n",
        "plt.plot(fpr, tpr, label='alerts')\n",
        "plt.plot([0, 1], [0, 1], 'k--')\n",
        "plt.xlabel('False positive rate')\n",
        "plt.ylabel('True positive rate')\n",
        "plt.title('ROC curve')\n",
        "plt.legend(loc='best')\n",
        "plt.show()"
      ],
      "execution_count": null,
      "outputs": [
        {
          "output_type": "display_data",
          "data": {
            "image/png": "[encoded data removed]",
            "text/plain": [
              "<Figure size 432x288 with 1 Axes>"
            ]
          },
          "metadata": {
            "tags": [],
            "needs_background": "light"
          }
        }
      ]
    },
    {
      "cell_type": "code",
      "metadata": {
        "colab": {
          "base_uri": "https://localhost:8080/"
        },
        "id": "v6L7W2IDfYxG",
        "outputId": "296337d7-19e1-406e-e4b4-5d3b8f1435b1"
      },
      "source": [
        "set(y_pred)"
      ],
      "execution_count": null,
      "outputs": [
        {
          "output_type": "execute_result",
          "data": {
            "text/plain": [
              "{1}"
            ]
          },
          "metadata": {
            "tags": []
          },
          "execution_count": 157
        }
      ]
    },
    {
      "cell_type": "code",
      "metadata": {
        "colab": {
          "base_uri": "https://localhost:8080/"
        },
        "id": "QVx8tZRrPrY8",
        "outputId": "0fa3a93e-1013-4d99-bd05-fb888ca80e47"
      },
      "source": [
        "!pip install guidedlda"
      ],
      "execution_count": null,
      "outputs": [
        {
          "output_type": "stream",
          "text": [
            "Collecting guidedlda\n",
            "\u001b[?25l  Downloading https://files.pythonhosted.org/packages/f8/ee/6d6e2b3525388399e12a4482554c7529a5fcf5e99c50a60abaa02894b8bf/guidedlda-2.0.0.dev22.tar.gz (2.1MB)\n",
            "\u001b[K     |████████████████████████████████| 2.1MB 6.1MB/s \n",
            "\u001b[?25hRequirement already satisfied: numpy in /usr/local/lib/python3.6/dist-packages (from guidedlda) (1.19.4)\n",
            "Building wheels for collected packages: guidedlda\n",
            "  Building wheel for guidedlda (setup.py) ... \u001b[?25l\u001b[?25hdone\n",
            "  Created wheel for guidedlda: filename=guidedlda-2.0.0.dev22-cp36-cp36m-linux_x86_64.whl size=2479760 sha256=94fe82bd48e79bb85bb25153a17f9de9c30aed38c1cdd87ab22d3d7245d4d704\n",
            "  Stored in directory: /root/.cache/pip/wheels/cf/cb/c4/95897cbe4e2e12bd01db3c5cb004c744d2cfd68ecc692ce39e\n",
            "Successfully built guidedlda\n",
            "Installing collected packages: guidedlda\n",
            "Successfully installed guidedlda-2.0.0.dev22\n"
          ],
          "name": "stdout"
        }
      ]
    }
  ]
}