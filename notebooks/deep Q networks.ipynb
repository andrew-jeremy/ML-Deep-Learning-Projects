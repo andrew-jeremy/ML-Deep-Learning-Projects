{
  "nbformat": 4,
  "nbformat_minor": 0,
  "metadata": {
    "colab": {
      "name": "1_dqn_tutorial.ipynb",
      "provenance": [],
      "collapsed_sections": [],
      "machine_shape": "hm"
    },
    "kernelspec": {
      "display_name": "Python 3",
      "language": "python",
      "name": "python3"
    },
    "language_info": {
      "codemirror_mode": {
        "name": "ipython",
        "version": 3
      },
      "file_extension": ".py",
      "mimetype": "text/x-python",
      "name": "python",
      "nbconvert_exporter": "python",
      "pygments_lexer": "ipython3",
      "version": "3.6.9"
    },
    "pycharm": {
      "stem_cell": {
        "cell_type": "raw",
        "metadata": {
          "collapsed": false
        },
        "source": []
      }
    },
    "accelerator": "GPU"
  },
  "cells": [
    {
      "cell_type": "markdown",
      "metadata": {
        "id": "klGNgWREsvQv"
      },
      "source": [
        "##### Copyright 2018 The TF-Agents Authors."
      ]
    },
    {
      "cell_type": "code",
      "metadata": {
        "cellView": "form",
        "id": "nQnmcm0oI1Q-"
      },
      "source": [
        "#@title Licensed under the Apache License, Version 2.0 (the \"License\");\n",
        "# you may not use this file except in compliance with the License.\n",
        "# You may obtain a copy of the License at\n",
        "#\n",
        "# https://www.apache.org/licenses/LICENSE-2.0\n",
        "#\n",
        "# Unless required by applicable law or agreed to in writing, software\n",
        "# distributed under the License is distributed on an \"AS IS\" BASIS,\n",
        "# WITHOUT WARRANTIES OR CONDITIONS OF ANY KIND, either express or implied.\n",
        "# See the License for the specific language governing permissions and\n",
        "# limitations under the License."
      ],
      "execution_count": null,
      "outputs": []
    },
    {
      "cell_type": "markdown",
      "metadata": {
        "id": "pmDI-h7cI0tI"
      },
      "source": [
        "# Train a Deep Q Network with TF-Agents\n",
        "\n",
        "<table class=\"tfo-notebook-buttons\" align=\"left\">\n",
        "  <td>\n",
        "    <a target=\"_blank\" href=\"https://www.tensorflow.org/agents/tutorials/1_dqn_tutorial\">\n",
        "    <img src=\"https://www.tensorflow.org/images/tf_logo_32px.png\" />\n",
        "    View on TensorFlow.org</a>\n",
        "  </td>\n",
        "  <td>\n",
        "    <a target=\"_blank\" href=\"https://colab.research.google.com/github/tensorflow/agents/blob/master/docs/tutorials/1_dqn_tutorial.ipynb\">\n",
        "    <img src=\"https://www.tensorflow.org/images/colab_logo_32px.png\" />\n",
        "    Run in Google Colab</a>\n",
        "  </td>\n",
        "  <td>\n",
        "    <a target=\"_blank\" href=\"https://github.com/tensorflow/agents/blob/master/docs/tutorials/1_dqn_tutorial.ipynb\">\n",
        "    <img src=\"https://www.tensorflow.org/images/GitHub-Mark-32px.png\" />\n",
        "    View source on GitHub</a>\n",
        "  </td>\n",
        "  <td>\n",
        "    <a href=\"https://storage.googleapis.com/tensorflow_docs/agents/docs/tutorials/1_dqn_tutorial.ipynb\"><img src=\"https://www.tensorflow.org/images/download_logo_32px.png\" />Download notebook</a>\n",
        "  </td>\n",
        "</table>"
      ]
    },
    {
      "cell_type": "markdown",
      "metadata": {
        "id": "lsaQlK8fFQqH"
      },
      "source": [
        "## Introduction\n"
      ]
    },
    {
      "cell_type": "markdown",
      "metadata": {
        "id": "cKOCZlhUgXVK"
      },
      "source": [
        "This example shows how to train a [DQN (Deep Q Networks)](https://storage.googleapis.com/deepmind-media/dqn/DQNNaturePaper.pdf)  agent on the Cartpole environment using the TF-Agents library.\n",
        "\n",
        "![Cartpole environment](https://raw.githubusercontent.com/tensorflow/agents/master/docs/tutorials/images/cartpole.png)\n",
        "\n",
        "It will walk you through all the components in a Reinforcement Learning (RL) pipeline for training, evaluation and data collection.\n",
        "\n",
        "\n",
        "To run this code live, click the 'Run in Google Colab' link above.\n"
      ]
    },
    {
      "cell_type": "markdown",
      "metadata": {
        "id": "1u9QVVsShC9X"
      },
      "source": [
        "## Setup"
      ]
    },
    {
      "cell_type": "markdown",
      "metadata": {
        "id": "kNrNXKI7bINP"
      },
      "source": [
        "If you haven't installed the following dependencies, run:"
      ]
    },
    {
      "cell_type": "code",
      "metadata": {
        "id": "KEHR2Ui-lo8O",
        "colab": {
          "base_uri": "https://localhost:8080/",
          "height": 1000
        },
        "outputId": "cc23ae89-d5ad-4f70-b808-e1c69d179650"
      },
      "source": [
        "!sudo apt-get install -y xvfb ffmpeg\n",
        "!pip install -q 'gym==0.10.11'\n",
        "!pip install -q 'imageio==2.4.0'\n",
        "!pip install -q PILLOW\n",
        "!pip install -q 'pyglet==1.3.2'\n",
        "!pip install -q pyvirtualdisplay\n",
        "!pip install -q tf-agents\n",
        "!pip install imgaug==0.02.5"
      ],
      "execution_count": null,
      "outputs": [
        {
          "output_type": "stream",
          "text": [
            "Reading package lists... Done\n",
            "Building dependency tree       \n",
            "Reading state information... Done\n",
            "ffmpeg is already the newest version (7:3.4.8-0ubuntu0.2).\n",
            "The following NEW packages will be installed:\n",
            "  xvfb\n",
            "0 upgraded, 1 newly installed, 0 to remove and 21 not upgraded.\n",
            "Need to get 783 kB of archives.\n",
            "After this operation, 2,266 kB of additional disk space will be used.\n",
            "Get:1 http://archive.ubuntu.com/ubuntu bionic-updates/universe amd64 xvfb amd64 2:1.19.6-1ubuntu4.7 [783 kB]\n",
            "Fetched 783 kB in 0s (7,247 kB/s)\n",
            "debconf: unable to initialize frontend: Dialog\n",
            "debconf: (No usable dialog-like program is installed, so the dialog based frontend cannot be used. at /usr/share/perl5/Debconf/FrontEnd/Dialog.pm line 76, <> line 1.)\n",
            "debconf: falling back to frontend: Readline\n",
            "debconf: unable to initialize frontend: Readline\n",
            "debconf: (This frontend requires a controlling tty.)\n",
            "debconf: falling back to frontend: Teletype\n",
            "dpkg-preconfigure: unable to re-open stdin: \n",
            "Selecting previously unselected package xvfb.\n",
            "(Reading database ... 144611 files and directories currently installed.)\n",
            "Preparing to unpack .../xvfb_2%3a1.19.6-1ubuntu4.7_amd64.deb ...\n",
            "Unpacking xvfb (2:1.19.6-1ubuntu4.7) ...\n",
            "Setting up xvfb (2:1.19.6-1ubuntu4.7) ...\n",
            "Processing triggers for man-db (2.8.3-2ubuntu0.1) ...\n",
            "\u001b[K     |████████████████████████████████| 1.5MB 4.9MB/s \n",
            "\u001b[?25h  Building wheel for gym (setup.py) ... \u001b[?25l\u001b[?25hdone\n",
            "\u001b[K     |████████████████████████████████| 3.3MB 5.7MB/s \n",
            "\u001b[?25h  Building wheel for imageio (setup.py) ... \u001b[?25l\u001b[?25hdone\n",
            "\u001b[31mERROR: albumentations 0.1.12 has requirement imgaug<0.2.7,>=0.2.5, but you'll have imgaug 0.2.9 which is incompatible.\u001b[0m\n",
            "\u001b[K     |████████████████████████████████| 1.0MB 10.3MB/s \n",
            "\u001b[K     |████████████████████████████████| 1.1MB 8.4MB/s \n",
            "\u001b[?25hCollecting imgaug==0.02.5\n",
            "\u001b[?25l  Downloading https://files.pythonhosted.org/packages/d2/60/a06a48d85a7e9062f5870347a3e3e953da30b37928d43b380c949bca458a/imgaug-0.2.5.tar.gz (562kB)\n",
            "\u001b[K     |████████████████████████████████| 563kB 8.4MB/s \n",
            "\u001b[?25hRequirement already satisfied: scipy in /usr/local/lib/python3.6/dist-packages (from imgaug==0.02.5) (1.4.1)\n",
            "Requirement already satisfied: scikit-image>=0.11.0 in /usr/local/lib/python3.6/dist-packages (from imgaug==0.02.5) (0.16.2)\n",
            "Requirement already satisfied: numpy>=1.7.0 in /usr/local/lib/python3.6/dist-packages (from imgaug==0.02.5) (1.18.5)\n",
            "Requirement already satisfied: six in /usr/local/lib/python3.6/dist-packages (from imgaug==0.02.5) (1.15.0)\n",
            "Requirement already satisfied: imageio>=2.3.0 in /usr/local/lib/python3.6/dist-packages (from scikit-image>=0.11.0->imgaug==0.02.5) (2.4.0)\n",
            "Requirement already satisfied: networkx>=2.0 in /usr/local/lib/python3.6/dist-packages (from scikit-image>=0.11.0->imgaug==0.02.5) (2.5)\n",
            "Requirement already satisfied: PyWavelets>=0.4.0 in /usr/local/lib/python3.6/dist-packages (from scikit-image>=0.11.0->imgaug==0.02.5) (1.1.1)\n",
            "Requirement already satisfied: pillow>=4.3.0 in /usr/local/lib/python3.6/dist-packages (from scikit-image>=0.11.0->imgaug==0.02.5) (7.0.0)\n",
            "Requirement already satisfied: matplotlib!=3.0.0,>=2.0.0 in /usr/local/lib/python3.6/dist-packages (from scikit-image>=0.11.0->imgaug==0.02.5) (3.2.2)\n",
            "Requirement already satisfied: decorator>=4.3.0 in /usr/local/lib/python3.6/dist-packages (from networkx>=2.0->scikit-image>=0.11.0->imgaug==0.02.5) (4.4.2)\n",
            "Requirement already satisfied: python-dateutil>=2.1 in /usr/local/lib/python3.6/dist-packages (from matplotlib!=3.0.0,>=2.0.0->scikit-image>=0.11.0->imgaug==0.02.5) (2.8.1)\n",
            "Requirement already satisfied: cycler>=0.10 in /usr/local/lib/python3.6/dist-packages (from matplotlib!=3.0.0,>=2.0.0->scikit-image>=0.11.0->imgaug==0.02.5) (0.10.0)\n",
            "Requirement already satisfied: kiwisolver>=1.0.1 in /usr/local/lib/python3.6/dist-packages (from matplotlib!=3.0.0,>=2.0.0->scikit-image>=0.11.0->imgaug==0.02.5) (1.2.0)\n",
            "Requirement already satisfied: pyparsing!=2.0.4,!=2.1.2,!=2.1.6,>=2.0.1 in /usr/local/lib/python3.6/dist-packages (from matplotlib!=3.0.0,>=2.0.0->scikit-image>=0.11.0->imgaug==0.02.5) (2.4.7)\n",
            "Building wheels for collected packages: imgaug\n",
            "  Building wheel for imgaug (setup.py) ... \u001b[?25l\u001b[?25hdone\n",
            "  Created wheel for imgaug: filename=imgaug-0.2.5-cp36-none-any.whl size=561440 sha256=14021c02a589783d73d11a0bf9438fda388b5692005369a58de063489cdf1272\n",
            "  Stored in directory: /root/.cache/pip/wheels/31/48/c8/ca3345e8582a078de94243996e148377ef66fdb845557bae0b\n",
            "Successfully built imgaug\n",
            "Installing collected packages: imgaug\n",
            "  Found existing installation: imgaug 0.2.9\n",
            "    Uninstalling imgaug-0.2.9:\n",
            "      Successfully uninstalled imgaug-0.2.9\n",
            "Successfully installed imgaug-0.2.5\n"
          ],
          "name": "stdout"
        }
      ]
    },
    {
      "cell_type": "code",
      "metadata": {
        "id": "sMitx5qSgJk1"
      },
      "source": [
        "from __future__ import absolute_import, division, print_function\n",
        "\n",
        "import base64\n",
        "import imageio\n",
        "import IPython\n",
        "import matplotlib\n",
        "import matplotlib.pyplot as plt\n",
        "import numpy as np\n",
        "import PIL.Image\n",
        "import pyvirtualdisplay\n",
        "\n",
        "import tensorflow as tf\n",
        "\n",
        "from tf_agents.agents.dqn import dqn_agent\n",
        "from tf_agents.drivers import dynamic_step_driver\n",
        "from tf_agents.environments import suite_gym\n",
        "from tf_agents.environments import tf_py_environment\n",
        "from tf_agents.eval import metric_utils\n",
        "from tf_agents.metrics import tf_metrics\n",
        "from tf_agents.networks import q_network\n",
        "from tf_agents.policies import random_tf_policy\n",
        "from tf_agents.replay_buffers import tf_uniform_replay_buffer\n",
        "from tf_agents.trajectories import trajectory\n",
        "from tf_agents.utils import common"
      ],
      "execution_count": null,
      "outputs": []
    },
    {
      "cell_type": "code",
      "metadata": {
        "id": "J6HsdS5GbSjd"
      },
      "source": [
        "tf.compat.v1.enable_v2_behavior()\n",
        "\n",
        "# Set up a virtual display for rendering OpenAI gym environments.\n",
        "display = pyvirtualdisplay.Display(visible=0, size=(1400, 900)).start()"
      ],
      "execution_count": null,
      "outputs": []
    },
    {
      "cell_type": "code",
      "metadata": {
        "id": "NspmzG4nP3b9",
        "colab": {
          "base_uri": "https://localhost:8080/",
          "height": 35
        },
        "outputId": "1d00041a-95d9-4e26-fb51-e7678fa05219"
      },
      "source": [
        "tf.version.VERSION"
      ],
      "execution_count": null,
      "outputs": [
        {
          "output_type": "execute_result",
          "data": {
            "application/vnd.google.colaboratory.intrinsic+json": {
              "type": "string"
            },
            "text/plain": [
              "'2.3.0'"
            ]
          },
          "metadata": {
            "tags": []
          },
          "execution_count": 5
        }
      ]
    },
    {
      "cell_type": "markdown",
      "metadata": {
        "id": "LmC0NDhdLIKY"
      },
      "source": [
        "## Hyperparameters"
      ]
    },
    {
      "cell_type": "code",
      "metadata": {
        "id": "HC1kNrOsLSIZ"
      },
      "source": [
        "num_iterations = 20000 # @param {type:\"integer\"}\n",
        "\n",
        "initial_collect_steps = 1000  # @param {type:\"integer\"} \n",
        "collect_steps_per_iteration = 1  # @param {type:\"integer\"}\n",
        "replay_buffer_max_length = 100000  # @param {type:\"integer\"}\n",
        "\n",
        "batch_size = 64  # @param {type:\"integer\"}\n",
        "learning_rate = 1e-3  # @param {type:\"number\"}\n",
        "log_interval = 200  # @param {type:\"integer\"}\n",
        "\n",
        "num_eval_episodes = 10  # @param {type:\"integer\"}\n",
        "eval_interval = 1000  # @param {type:\"integer\"}"
      ],
      "execution_count": null,
      "outputs": []
    },
    {
      "cell_type": "markdown",
      "metadata": {
        "id": "VMsJC3DEgI0x"
      },
      "source": [
        "## Environment\n",
        "\n",
        "In Reinforcement Learning (RL), an environment represents the task or problem to be solved. Standard environments can be created in TF-Agents using `tf_agents.environments` suites. TF-Agents has suites for loading environments from sources such as the OpenAI Gym, Atari, and DM Control.\n",
        "\n",
        "Load the CartPole environment from the OpenAI Gym suite. "
      ]
    },
    {
      "cell_type": "code",
      "metadata": {
        "id": "pYEz-S9gEv2-"
      },
      "source": [
        "env_name = 'CartPole-v0'\n",
        "env = suite_gym.load(env_name)"
      ],
      "execution_count": null,
      "outputs": []
    },
    {
      "cell_type": "markdown",
      "metadata": {
        "id": "IIHYVBkuvPNw"
      },
      "source": [
        "You can render this environment to see how it looks. A free-swinging pole is attached to a cart.  The goal is to move the cart right or left in order to keep the pole pointing up."
      ]
    },
    {
      "cell_type": "code",
      "metadata": {
        "id": "RlO7WIQHu_7D",
        "colab": {
          "base_uri": "https://localhost:8080/",
          "height": 417
        },
        "outputId": "1502eac8-6607-435c-f671-628ff0bdb060"
      },
      "source": [
        "#@test {\"skip\": true}\n",
        "env.reset()\n",
        "PIL.Image.fromarray(env.render())"
      ],
      "execution_count": null,
      "outputs": [
        {
          "output_type": "execute_result",
          "data": {
            "image/png": "[encoded data removed]",
            "text/plain": [
              "<PIL.Image.Image image mode=RGB size=600x400 at 0x7F0E680B1F28>"
            ]
          },
          "metadata": {
            "tags": []
          },
          "execution_count": 8
        }
      ]
    },
    {
      "cell_type": "markdown",
      "metadata": {
        "id": "B9_lskPOey18"
      },
      "source": [
        "The `environment.step` method takes an `action` in the environment and returns a `TimeStep` tuple containing the next observation of the environment and the reward for the action.\n",
        "\n",
        "The `time_step_spec()` method returns the specification for the `TimeStep` tuple. Its `observation` attribute shows the shape of observations, the data types, and the ranges of allowed values. The `reward` attribute shows the same details for the reward.\n"
      ]
    },
    {
      "cell_type": "code",
      "metadata": {
        "id": "exDv57iHfwQV",
        "colab": {
          "base_uri": "https://localhost:8080/",
          "height": 71
        },
        "outputId": "6724098c-672f-4a14-bb4f-14debe3661e2"
      },
      "source": [
        "print('Observation Spec:')\n",
        "print(env.time_step_spec().observation)"
      ],
      "execution_count": null,
      "outputs": [
        {
          "output_type": "stream",
          "text": [
            "Observation Spec:\n",
            "BoundedArraySpec(shape=(4,), dtype=dtype('float32'), name='observation', minimum=[-4.8000002e+00 -3.4028235e+38 -4.1887903e-01 -3.4028235e+38], maximum=[4.8000002e+00 3.4028235e+38 4.1887903e-01 3.4028235e+38])\n"
          ],
          "name": "stdout"
        }
      ]
    },
    {
      "cell_type": "code",
      "metadata": {
        "id": "UxiSyCbBUQPi",
        "colab": {
          "base_uri": "https://localhost:8080/",
          "height": 51
        },
        "outputId": "137c0470-028c-4d89-f122-8a9a92c35805"
      },
      "source": [
        "print('Reward Spec:')\n",
        "print(env.time_step_spec().reward)"
      ],
      "execution_count": null,
      "outputs": [
        {
          "output_type": "stream",
          "text": [
            "Reward Spec:\n",
            "ArraySpec(shape=(), dtype=dtype('float32'), name='reward')\n"
          ],
          "name": "stdout"
        }
      ]
    },
    {
      "cell_type": "markdown",
      "metadata": {
        "id": "b_lHcIcqUaqB"
      },
      "source": [
        "The `action_spec()` method returns the shape, data types, and allowed values of valid actions."
      ]
    },
    {
      "cell_type": "code",
      "metadata": {
        "id": "bttJ4uxZUQBr",
        "colab": {
          "base_uri": "https://localhost:8080/",
          "height": 51
        },
        "outputId": "395d20c6-3d13-4b4f-dfe7-ae86c9c59b6a"
      },
      "source": [
        "print('Action Spec:')\n",
        "print(env.action_spec())"
      ],
      "execution_count": null,
      "outputs": [
        {
          "output_type": "stream",
          "text": [
            "Action Spec:\n",
            "BoundedArraySpec(shape=(), dtype=dtype('int64'), name='action', minimum=0, maximum=1)\n"
          ],
          "name": "stdout"
        }
      ]
    },
    {
      "cell_type": "markdown",
      "metadata": {
        "id": "eJCgJnx3g0yY"
      },
      "source": [
        "In the Cartpole environment:\n",
        "\n",
        "-   `observation` is an array of 4 floats: \n",
        "    -   the position and velocity of the cart\n",
        "    -   the angular position and velocity of the pole \n",
        "-   `reward` is a scalar float value\n",
        "-   `action` is a scalar integer with only two possible values:\n",
        "    -   `0` — \"move left\"\n",
        "    -   `1` — \"move right\"\n"
      ]
    },
    {
      "cell_type": "code",
      "metadata": {
        "id": "V2UGR5t_iZX-",
        "colab": {
          "base_uri": "https://localhost:8080/",
          "height": 105
        },
        "outputId": "fcaea167-926f-480e-d8a1-601febad9d29"
      },
      "source": [
        "time_step = env.reset()\n",
        "print('Time step:')\n",
        "print(time_step)\n",
        "\n",
        "action = np.array(1, dtype=np.int32)\n",
        "\n",
        "next_time_step = env.step(action)\n",
        "print('Next time step:')\n",
        "print(next_time_step)"
      ],
      "execution_count": null,
      "outputs": [
        {
          "output_type": "stream",
          "text": [
            "Time step:\n",
            "TimeStep(step_type=array(0, dtype=int32), reward=array(0., dtype=float32), discount=array(1., dtype=float32), observation=array([-0.00186173, -0.04090695,  0.04515525, -0.03459257], dtype=float32))\n",
            "Next time step:\n",
            "TimeStep(step_type=array(1, dtype=int32), reward=array(1., dtype=float32), discount=array(1., dtype=float32), observation=array([-0.00267986,  0.15353934,  0.0444634 , -0.31269357], dtype=float32))\n"
          ],
          "name": "stdout"
        }
      ]
    },
    {
      "cell_type": "markdown",
      "metadata": {
        "id": "4JSc9GviWUBK"
      },
      "source": [
        "Usually two environments are instantiated: one for training and one for evaluation. "
      ]
    },
    {
      "cell_type": "code",
      "metadata": {
        "id": "N7brXNIGWXjC"
      },
      "source": [
        "train_py_env = suite_gym.load(env_name)\n",
        "eval_py_env = suite_gym.load(env_name)"
      ],
      "execution_count": null,
      "outputs": []
    },
    {
      "cell_type": "markdown",
      "metadata": {
        "id": "zuUqXAVmecTU"
      },
      "source": [
        "The Cartpole environment, like most environments, is written in pure Python. This is converted to TensorFlow using the `TFPyEnvironment` wrapper.\n",
        "\n",
        "The original environment's API uses Numpy arrays. The `TFPyEnvironment` converts these to `Tensors` to make it compatible with Tensorflow agents and policies.\n"
      ]
    },
    {
      "cell_type": "code",
      "metadata": {
        "id": "Xp-Y4mD6eDhF"
      },
      "source": [
        "train_env = tf_py_environment.TFPyEnvironment(train_py_env)\n",
        "eval_env = tf_py_environment.TFPyEnvironment(eval_py_env)"
      ],
      "execution_count": null,
      "outputs": []
    },
    {
      "cell_type": "markdown",
      "metadata": {
        "id": "E9lW_OZYFR8A"
      },
      "source": [
        "## Agent\n",
        "\n",
        "The algorithm used to solve an RL problem is represented by an `Agent`. TF-Agents provides standard implementations of a variety of `Agents`, including:\n",
        "\n",
        "-   [DQN](https://storage.googleapis.com/deepmind-media/dqn/DQNNaturePaper.pdf) (used in this tutorial)\n",
        "-   [REINFORCE](http://www-anw.cs.umass.edu/~barto/courses/cs687/williams92simple.pdf)\n",
        "-   [DDPG](https://arxiv.org/pdf/1509.02971.pdf)\n",
        "-   [TD3](https://arxiv.org/pdf/1802.09477.pdf)\n",
        "-   [PPO](https://arxiv.org/abs/1707.06347)\n",
        "-   [SAC](https://arxiv.org/abs/1801.01290).\n",
        "\n",
        "The DQN agent can be used in any environment which has a discrete action space.\n",
        "\n",
        "At the heart of a DQN Agent is a `QNetwork`, a neural network model that can learn to predict `QValues` (expected returns) for all actions, given an observation from the environment.\n",
        "\n",
        "Use `tf_agents.networks.q_network` to create a `QNetwork`, passing in the `observation_spec`, `action_spec`, and a tuple describing the number and size of the model's hidden layers.\n"
      ]
    },
    {
      "cell_type": "code",
      "metadata": {
        "id": "TgkdEPg_muzV"
      },
      "source": [
        "fc_layer_params = (100,)\n",
        "\n",
        "q_net = q_network.QNetwork(\n",
        "    train_env.observation_spec(),\n",
        "    train_env.action_spec(),\n",
        "    fc_layer_params=fc_layer_params)"
      ],
      "execution_count": null,
      "outputs": []
    },
    {
      "cell_type": "markdown",
      "metadata": {
        "id": "z62u55hSmviJ"
      },
      "source": [
        "Now use `tf_agents.agents.dqn.dqn_agent` to instantiate a `DqnAgent`. In addition to the `time_step_spec`, `action_spec` and the QNetwork, the agent constructor also requires an optimizer (in this case, `AdamOptimizer`), a loss function, and an integer step counter."
      ]
    },
    {
      "cell_type": "code",
      "metadata": {
        "id": "jbY4yrjTEyc9"
      },
      "source": [
        "optimizer = tf.compat.v1.train.AdamOptimizer(learning_rate=learning_rate)\n",
        "\n",
        "train_step_counter = tf.Variable(0)\n",
        "\n",
        "agent = dqn_agent.DqnAgent(\n",
        "    train_env.time_step_spec(),\n",
        "    train_env.action_spec(),\n",
        "    q_network=q_net,\n",
        "    optimizer=optimizer,\n",
        "    td_errors_loss_fn=common.element_wise_squared_loss,\n",
        "    train_step_counter=train_step_counter)\n",
        "\n",
        "agent.initialize()"
      ],
      "execution_count": null,
      "outputs": []
    },
    {
      "cell_type": "markdown",
      "metadata": {
        "id": "I0KLrEPwkn5x"
      },
      "source": [
        "## Policies\n",
        "\n",
        "A policy defines the way an agent acts in an environment. Typically, the goal of reinforcement learning is to train the underlying model until the policy produces the desired outcome.\n",
        "\n",
        "In this tutorial:\n",
        "\n",
        "-   The desired outcome is keeping the pole balanced upright over the cart.\n",
        "-   The policy returns an action (left or right) for each `time_step` observation.\n",
        "\n",
        "Agents contain two policies: \n",
        "\n",
        "-   `agent.policy` — The main policy that is used for evaluation and deployment.\n",
        "-   `agent.collect_policy` — A second policy that is used for data collection.\n"
      ]
    },
    {
      "cell_type": "code",
      "metadata": {
        "id": "BwY7StuMkuV4"
      },
      "source": [
        "eval_policy = agent.policy\n",
        "collect_policy = agent.collect_policy"
      ],
      "execution_count": null,
      "outputs": []
    },
    {
      "cell_type": "markdown",
      "metadata": {
        "id": "2Qs1Fl3dV0ae"
      },
      "source": [
        "Policies can be created independently of agents. For example, use `tf_agents.policies.random_tf_policy` to create a policy which will randomly select an action for each `time_step`."
      ]
    },
    {
      "cell_type": "code",
      "metadata": {
        "id": "HE37-UCIrE69"
      },
      "source": [
        "random_policy = random_tf_policy.RandomTFPolicy(train_env.time_step_spec(),\n",
        "                                                train_env.action_spec())"
      ],
      "execution_count": null,
      "outputs": []
    },
    {
      "cell_type": "markdown",
      "metadata": {
        "id": "dOlnlRRsUbxP"
      },
      "source": [
        "To get an action from a policy, call the `policy.action(time_step)` method. The `time_step` contains the observation from the environment. This method returns a `PolicyStep`, which is a named tuple with three components:\n",
        "\n",
        "-   `action` — the action to be taken (in this case, `0` or `1`)\n",
        "-   `state` — used for stateful (that is, RNN-based) policies\n",
        "-   `info` — auxiliary data, such as log probabilities of actions"
      ]
    },
    {
      "cell_type": "code",
      "metadata": {
        "id": "5gCcpXswVAxk"
      },
      "source": [
        "example_environment = tf_py_environment.TFPyEnvironment(\n",
        "    suite_gym.load('CartPole-v0'))"
      ],
      "execution_count": null,
      "outputs": []
    },
    {
      "cell_type": "code",
      "metadata": {
        "id": "D4DHZtq3Ndis"
      },
      "source": [
        "time_step = example_environment.reset()"
      ],
      "execution_count": null,
      "outputs": []
    },
    {
      "cell_type": "code",
      "metadata": {
        "id": "PRFqAUzpNaAW",
        "colab": {
          "base_uri": "https://localhost:8080/",
          "height": 34
        },
        "outputId": "7896c568-4ce0-4e91-f80e-1b84599663b2"
      },
      "source": [
        "random_policy.action(time_step)"
      ],
      "execution_count": null,
      "outputs": [
        {
          "output_type": "execute_result",
          "data": {
            "text/plain": [
              "PolicyStep(action=<tf.Tensor: shape=(1,), dtype=int64, numpy=array([0])>, state=(), info=())"
            ]
          },
          "metadata": {
            "tags": []
          },
          "execution_count": 21
        }
      ]
    },
    {
      "cell_type": "markdown",
      "metadata": {
        "id": "94rCXQtbUbXv"
      },
      "source": [
        "## Metrics and Evaluation\n",
        "\n",
        "The most common metric used to evaluate a policy is the average return. The return is the sum of rewards obtained while running a policy in an environment for an episode. Several episodes are run, creating an average return.\n",
        "\n",
        "The following function computes the average return of a policy, given the policy, environment, and a number of episodes.\n"
      ]
    },
    {
      "cell_type": "code",
      "metadata": {
        "id": "bitzHo5_UbXy"
      },
      "source": [
        "#@test {\"skip\": true}\n",
        "def compute_avg_return(environment, policy, num_episodes=10):\n",
        "\n",
        "  total_return = 0.0\n",
        "  for _ in range(num_episodes):\n",
        "\n",
        "    time_step = environment.reset()\n",
        "    episode_return = 0.0\n",
        "\n",
        "    while not time_step.is_last():\n",
        "      action_step = policy.action(time_step)\n",
        "      time_step = environment.step(action_step.action)\n",
        "      episode_return += time_step.reward\n",
        "    total_return += episode_return\n",
        "\n",
        "  avg_return = total_return / num_episodes\n",
        "  return avg_return.numpy()[0]\n",
        "\n",
        "\n",
        "# See also the metrics module for standard implementations of different metrics.\n",
        "# https://github.com/tensorflow/agents/tree/master/tf_agents/metrics"
      ],
      "execution_count": null,
      "outputs": []
    },
    {
      "cell_type": "markdown",
      "metadata": {
        "id": "_snCVvq5Z8lJ"
      },
      "source": [
        "Running this computation on the `random_policy` shows a baseline performance in the environment."
      ]
    },
    {
      "cell_type": "code",
      "metadata": {
        "id": "9bgU6Q6BZ8Bp",
        "colab": {
          "base_uri": "https://localhost:8080/",
          "height": 34
        },
        "outputId": "6c1a5230-cedf-4518-ed49-f1ca5d4a5fe5"
      },
      "source": [
        "compute_avg_return(eval_env, random_policy, num_eval_episodes)"
      ],
      "execution_count": null,
      "outputs": [
        {
          "output_type": "execute_result",
          "data": {
            "text/plain": [
              "25.7"
            ]
          },
          "metadata": {
            "tags": []
          },
          "execution_count": 23
        }
      ]
    },
    {
      "cell_type": "markdown",
      "metadata": {
        "id": "NLva6g2jdWgr"
      },
      "source": [
        "## Replay Buffer\n",
        "\n",
        "The replay buffer keeps track of data collected from the environment. This tutorial uses `tf_agents.replay_buffers.tf_uniform_replay_buffer.TFUniformReplayBuffer`, as it is the most common. \n",
        "\n",
        "The constructor requires the specs for the data it will be collecting. This is available from the agent using the `collect_data_spec` method. The batch size and maximum buffer length are also required.\n"
      ]
    },
    {
      "cell_type": "code",
      "metadata": {
        "id": "vX2zGUWJGWAl"
      },
      "source": [
        "replay_buffer = tf_uniform_replay_buffer.TFUniformReplayBuffer(\n",
        "    data_spec=agent.collect_data_spec,\n",
        "    batch_size=train_env.batch_size,\n",
        "    max_length=replay_buffer_max_length)"
      ],
      "execution_count": null,
      "outputs": []
    },
    {
      "cell_type": "markdown",
      "metadata": {
        "id": "ZGNTDJpZs4NN"
      },
      "source": [
        "For most agents, `collect_data_spec` is a named tuple called `Trajectory`, containing the specs for observations, actions, rewards, and other items."
      ]
    },
    {
      "cell_type": "code",
      "metadata": {
        "id": "_IZ-3HcqgE1z",
        "colab": {
          "base_uri": "https://localhost:8080/",
          "height": 88
        },
        "outputId": "b3c6faad-2c62-45d9-e34b-f4ac56fd5c07"
      },
      "source": [
        "agent.collect_data_spec"
      ],
      "execution_count": null,
      "outputs": [
        {
          "output_type": "execute_result",
          "data": {
            "text/plain": [
              "Trajectory(step_type=TensorSpec(shape=(), dtype=tf.int32, name='step_type'), observation=BoundedTensorSpec(shape=(4,), dtype=tf.float32, name='observation', minimum=array([-4.8000002e+00, -3.4028235e+38, -4.1887903e-01, -3.4028235e+38],\n",
              "      dtype=float32), maximum=array([4.8000002e+00, 3.4028235e+38, 4.1887903e-01, 3.4028235e+38],\n",
              "      dtype=float32)), action=BoundedTensorSpec(shape=(), dtype=tf.int64, name='action', minimum=array(0), maximum=array(1)), policy_info=(), next_step_type=TensorSpec(shape=(), dtype=tf.int32, name='step_type'), reward=TensorSpec(shape=(), dtype=tf.float32, name='reward'), discount=BoundedTensorSpec(shape=(), dtype=tf.float32, name='discount', minimum=array(0., dtype=float32), maximum=array(1., dtype=float32)))"
            ]
          },
          "metadata": {
            "tags": []
          },
          "execution_count": 25
        }
      ]
    },
    {
      "cell_type": "code",
      "metadata": {
        "id": "sy6g1tGcfRlw",
        "colab": {
          "base_uri": "https://localhost:8080/",
          "height": 136
        },
        "outputId": "605ac71e-3350-4488-df00-e1957a823a82"
      },
      "source": [
        "agent.collect_data_spec._fields"
      ],
      "execution_count": null,
      "outputs": [
        {
          "output_type": "execute_result",
          "data": {
            "text/plain": [
              "('step_type',\n",
              " 'observation',\n",
              " 'action',\n",
              " 'policy_info',\n",
              " 'next_step_type',\n",
              " 'reward',\n",
              " 'discount')"
            ]
          },
          "metadata": {
            "tags": []
          },
          "execution_count": 26
        }
      ]
    },
    {
      "cell_type": "markdown",
      "metadata": {
        "id": "rVD5nQ9ZGo8_"
      },
      "source": [
        "## Data Collection\n",
        "\n",
        "Now execute the random policy in the environment for a few steps, recording the data in the replay buffer."
      ]
    },
    {
      "cell_type": "code",
      "metadata": {
        "id": "wr1KSAEGG4h9"
      },
      "source": [
        "#@test {\"skip\": true}\n",
        "def collect_step(environment, policy, buffer):\n",
        "  time_step = environment.current_time_step()\n",
        "  action_step = policy.action(time_step)\n",
        "  next_time_step = environment.step(action_step.action)\n",
        "  traj = trajectory.from_transition(time_step, action_step, next_time_step)\n",
        "\n",
        "  # Add trajectory to the replay buffer\n",
        "  buffer.add_batch(traj)\n",
        "\n",
        "def collect_data(env, policy, buffer, steps):\n",
        "  for _ in range(steps):\n",
        "    collect_step(env, policy, buffer)\n",
        "\n",
        "collect_data(train_env, random_policy, replay_buffer, steps=100)\n",
        "\n",
        "# This loop is so common in RL, that we provide standard implementations. \n",
        "# For more details see the drivers module.\n",
        "# https://www.tensorflow.org/agents/api_docs/python/tf_agents/drivers"
      ],
      "execution_count": null,
      "outputs": []
    },
    {
      "cell_type": "markdown",
      "metadata": {
        "id": "84z5pQJdoKxo"
      },
      "source": [
        "The replay buffer is now a collection of Trajectories."
      ]
    },
    {
      "cell_type": "code",
      "metadata": {
        "id": "4wZnLu2ViO4E"
      },
      "source": [
        "# For the curious:\n",
        "# Uncomment to peel one of these off and inspect it.\n",
        "# iter(replay_buffer.as_dataset()).next()"
      ],
      "execution_count": null,
      "outputs": []
    },
    {
      "cell_type": "markdown",
      "metadata": {
        "id": "TujU-PMUsKjS"
      },
      "source": [
        "The agent needs access to the replay buffer. This is provided by creating an iterable `tf.data.Dataset` pipeline which will feed data to the agent.\n",
        "\n",
        "Each row of the replay buffer only stores a single observation step. But since the DQN Agent needs both the current and next observation to compute the loss, the dataset pipeline will sample two adjacent rows for each item in the batch (`num_steps=2`).\n",
        "\n",
        "This dataset is also optimized by running parallel calls and prefetching data."
      ]
    },
    {
      "cell_type": "code",
      "metadata": {
        "id": "ba7bilizt_qW",
        "colab": {
          "base_uri": "https://localhost:8080/",
          "height": 105
        },
        "outputId": "f5bae98d-642c-4ade-9032-24504063ef2f"
      },
      "source": [
        "# Dataset generates trajectories with shape [Bx2x...]\n",
        "dataset = replay_buffer.as_dataset(\n",
        "    num_parallel_calls=3, \n",
        "    sample_batch_size=batch_size, \n",
        "    num_steps=2).prefetch(3)\n",
        "\n",
        "\n",
        "dataset"
      ],
      "execution_count": null,
      "outputs": [
        {
          "output_type": "stream",
          "text": [
            "WARNING:tensorflow:From /usr/local/lib/python3.6/dist-packages/tensorflow/python/autograph/operators/control_flow.py:1004: ReplayBuffer.get_next (from tf_agents.replay_buffers.replay_buffer) is deprecated and will be removed in a future version.\n",
            "Instructions for updating:\n",
            "Use `as_dataset(..., single_deterministic_pass=False) instead.\n"
          ],
          "name": "stdout"
        },
        {
          "output_type": "execute_result",
          "data": {
            "text/plain": [
              "<PrefetchDataset shapes: (Trajectory(step_type=(64, 2), observation=(64, 2, 4), action=(64, 2), policy_info=(), next_step_type=(64, 2), reward=(64, 2), discount=(64, 2)), BufferInfo(ids=(64, 2), probabilities=(64,))), types: (Trajectory(step_type=tf.int32, observation=tf.float32, action=tf.int64, policy_info=(), next_step_type=tf.int32, reward=tf.float32, discount=tf.float32), BufferInfo(ids=tf.int64, probabilities=tf.float32))>"
            ]
          },
          "metadata": {
            "tags": []
          },
          "execution_count": 29
        }
      ]
    },
    {
      "cell_type": "code",
      "metadata": {
        "id": "K13AST-2ppOq",
        "colab": {
          "base_uri": "https://localhost:8080/",
          "height": 34
        },
        "outputId": "5516ad0e-ea3f-47ad-e8f1-72c8b96531a8"
      },
      "source": [
        "iterator = iter(dataset)\n",
        "\n",
        "print(iterator)\n"
      ],
      "execution_count": null,
      "outputs": [
        {
          "output_type": "stream",
          "text": [
            "<tensorflow.python.data.ops.iterator_ops.OwnedIterator object at 0x7f0e5035c0b8>\n"
          ],
          "name": "stdout"
        }
      ]
    },
    {
      "cell_type": "code",
      "metadata": {
        "id": "Th5w5Sff0b16"
      },
      "source": [
        "# For the curious:\n",
        "# Uncomment to see what the dataset iterator is feeding to the agent.\n",
        "# Compare this representation of replay data \n",
        "# to the collection of individual trajectories shown earlier.\n",
        "\n",
        "# iterator.next()"
      ],
      "execution_count": null,
      "outputs": []
    },
    {
      "cell_type": "markdown",
      "metadata": {
        "id": "hBc9lj9VWWtZ"
      },
      "source": [
        "## Training the agent\n",
        "\n",
        "Two things must happen during the training loop:\n",
        "\n",
        "-   collect data from the environment\n",
        "-   use that data to train the agent's neural network(s)\n",
        "\n",
        "This example also periodicially evaluates the policy and prints the current score.\n",
        "\n",
        "The following will take ~5 minutes to run."
      ]
    },
    {
      "cell_type": "code",
      "metadata": {
        "id": "0pTbJ3PeyF-u",
        "colab": {
          "base_uri": "https://localhost:8080/",
          "height": 1000
        },
        "outputId": "0cd6b2d2-d054-4b1a-ff4b-df1fdfc82558"
      },
      "source": [
        "#@test {\"skip\": true}\n",
        "try:\n",
        "  %%time\n",
        "except:\n",
        "  pass\n",
        "\n",
        "# (Optional) Optimize by wrapping some of the code in a graph using TF function.\n",
        "agent.train = common.function(agent.train)\n",
        "\n",
        "# Reset the train step\n",
        "agent.train_step_counter.assign(0)\n",
        "\n",
        "# Evaluate the agent's policy once before training.\n",
        "avg_return = compute_avg_return(eval_env, agent.policy, num_eval_episodes)\n",
        "returns = [avg_return]\n",
        "\n",
        "for _ in range(num_iterations):\n",
        "\n",
        "  # Collect a few steps using collect_policy and save to the replay buffer.\n",
        "  for _ in range(collect_steps_per_iteration):\n",
        "    collect_step(train_env, agent.collect_policy, replay_buffer)\n",
        "\n",
        "  # Sample a batch of data from the buffer and update the agent's network.\n",
        "  experience, unused_info = next(iterator)\n",
        "  train_loss = agent.train(experience).loss\n",
        "\n",
        "  step = agent.train_step_counter.numpy()\n",
        "\n",
        "  if step % log_interval == 0:\n",
        "    print('step = {0}: loss = {1}'.format(step, train_loss))\n",
        "\n",
        "  if step % eval_interval == 0:\n",
        "    avg_return = compute_avg_return(eval_env, agent.policy, num_eval_episodes)\n",
        "    print('step = {0}: Average Return = {1}'.format(step, avg_return))\n",
        "    returns.append(avg_return)"
      ],
      "execution_count": null,
      "outputs": [
        {
          "output_type": "stream",
          "text": [
            "CPU times: user 2 µs, sys: 1 µs, total: 3 µs\n",
            "Wall time: 5.96 µs\n",
            "WARNING:tensorflow:From /usr/local/lib/python3.6/dist-packages/tensorflow/python/util/dispatch.py:201: calling foldr_v2 (from tensorflow.python.ops.functional_ops) with back_prop=False is deprecated and will be removed in a future version.\n",
            "Instructions for updating:\n",
            "back_prop=False is deprecated. Consider using tf.stop_gradient instead.\n",
            "Instead of:\n",
            "results = tf.foldr(fn, elems, back_prop=False)\n",
            "Use:\n",
            "results = tf.nest.map_structure(tf.stop_gradient, tf.foldr(fn, elems))\n",
            "step = 200: loss = 9.948972702026367\n",
            "step = 400: loss = 54.37403869628906\n",
            "step = 600: loss = 55.69594955444336\n",
            "step = 800: loss = 67.67721557617188\n",
            "step = 1000: loss = 22.69647979736328\n",
            "step = 1000: Average Return = 55.0\n",
            "step = 1200: loss = 555.9406127929688\n",
            "step = 1400: loss = 771.45654296875\n",
            "step = 1600: loss = 384.4312744140625\n",
            "step = 1800: loss = 213.30479431152344\n",
            "step = 2000: loss = 142.21524047851562\n",
            "step = 2000: Average Return = 43.400001525878906\n",
            "step = 2200: loss = 130.53826904296875\n",
            "step = 2400: loss = 33.467071533203125\n",
            "step = 2600: loss = 7.447539806365967\n",
            "step = 2800: loss = 112.34429931640625\n",
            "step = 3000: loss = 47.79863357543945\n",
            "step = 3000: Average Return = 44.900001525878906\n",
            "step = 3200: loss = 39.115760803222656\n",
            "step = 3400: loss = 42.263301849365234\n",
            "step = 3600: loss = 64.36016082763672\n",
            "step = 3800: loss = 8.851085662841797\n",
            "step = 4000: loss = 31.84299087524414\n",
            "step = 4000: Average Return = 39.599998474121094\n",
            "step = 4200: loss = 7.769924163818359\n",
            "step = 4400: loss = 13.333902359008789\n",
            "step = 4600: loss = 7.263338565826416\n",
            "step = 4800: loss = 165.71612548828125\n",
            "step = 5000: loss = 288.19671630859375\n",
            "step = 5000: Average Return = 47.79999923706055\n",
            "step = 5200: loss = 111.50305938720703\n",
            "step = 5400: loss = 8.709880828857422\n",
            "step = 5600: loss = 8.215287208557129\n",
            "step = 5800: loss = 7.075038433074951\n",
            "step = 6000: loss = 5.9556732177734375\n",
            "step = 6000: Average Return = 36.900001525878906\n",
            "step = 6200: loss = 5.138238906860352\n",
            "step = 6400: loss = 196.1836395263672\n",
            "step = 6600: loss = 177.02989196777344\n",
            "step = 6800: loss = 9.392110824584961\n",
            "step = 7000: loss = 56.045379638671875\n",
            "step = 7000: Average Return = 22.299999237060547\n",
            "step = 7200: loss = 31.84072494506836\n",
            "step = 7400: loss = 3.82837176322937\n",
            "step = 7600: loss = 9.184191703796387\n",
            "step = 7800: loss = 100.73173522949219\n",
            "step = 8000: loss = 107.00650024414062\n",
            "step = 8000: Average Return = 23.799999237060547\n",
            "step = 8200: loss = 182.4814453125\n",
            "step = 8400: loss = 6.351789474487305\n",
            "step = 8600: loss = 5.745652198791504\n",
            "step = 8800: loss = 4.076794147491455\n",
            "step = 9000: loss = 51.859222412109375\n",
            "step = 9000: Average Return = 32.79999923706055\n",
            "step = 9200: loss = 87.91354370117188\n",
            "step = 9400: loss = 42.34457778930664\n",
            "step = 9600: loss = 9.828283309936523\n",
            "step = 9800: loss = 9.689237594604492\n",
            "step = 10000: loss = 12.211073875427246\n",
            "step = 10000: Average Return = 63.5\n",
            "step = 10200: loss = 9.261157989501953\n",
            "step = 10400: loss = 11.692867279052734\n",
            "step = 10600: loss = 17.989498138427734\n",
            "step = 10800: loss = 19.480966567993164\n",
            "step = 11000: loss = 4.426846504211426\n",
            "step = 11000: Average Return = 84.69999694824219\n",
            "step = 11200: loss = 60.84349060058594\n",
            "step = 11400: loss = 4.316327095031738\n",
            "step = 11600: loss = 12.564871788024902\n",
            "step = 11800: loss = 15.487320899963379\n",
            "step = 12000: loss = 15.189605712890625\n",
            "step = 12000: Average Return = 150.0\n",
            "step = 12200: loss = 13.191648483276367\n",
            "step = 12400: loss = 8.895828247070312\n",
            "step = 12600: loss = 75.04592895507812\n",
            "step = 12800: loss = 5.269330024719238\n",
            "step = 13000: loss = 30.577266693115234\n",
            "step = 13000: Average Return = 100.19999694824219\n",
            "step = 13200: loss = 135.90904235839844\n",
            "step = 13400: loss = 24.710763931274414\n",
            "step = 13600: loss = 76.7971420288086\n",
            "step = 13800: loss = 45.364540100097656\n",
            "step = 14000: loss = 14.86722469329834\n",
            "step = 14000: Average Return = 65.69999694824219\n",
            "step = 14200: loss = 101.71566009521484\n",
            "step = 14400: loss = 7.148287773132324\n",
            "step = 14600: loss = 358.8792419433594\n",
            "step = 14800: loss = 192.48570251464844\n",
            "step = 15000: loss = 7.924500465393066\n",
            "step = 15000: Average Return = 77.5999984741211\n",
            "step = 15200: loss = 68.7506103515625\n",
            "step = 15400: loss = 11.392160415649414\n",
            "step = 15600: loss = 27.106901168823242\n",
            "step = 15800: loss = 277.1412353515625\n",
            "step = 16000: loss = 11.253244400024414\n",
            "step = 16000: Average Return = 87.30000305175781\n",
            "step = 16200: loss = 117.56672668457031\n",
            "step = 16400: loss = 105.49343872070312\n",
            "step = 16600: loss = 215.17123413085938\n",
            "step = 16800: loss = 351.529541015625\n",
            "step = 17000: loss = 10.318708419799805\n",
            "step = 17000: Average Return = 56.0\n",
            "step = 17200: loss = 9.0594482421875\n",
            "step = 17400: loss = 13.798482894897461\n",
            "step = 17600: loss = 149.19158935546875\n",
            "step = 17800: loss = 107.20966339111328\n",
            "step = 18000: loss = 35.050315856933594\n",
            "step = 18000: Average Return = 132.0\n",
            "step = 18200: loss = 199.08065795898438\n",
            "step = 18400: loss = 178.7655487060547\n",
            "step = 18600: loss = 299.8988952636719\n",
            "step = 18800: loss = 505.33319091796875\n",
            "step = 19000: loss = 278.9510192871094\n",
            "step = 19000: Average Return = 93.5999984741211\n",
            "step = 19200: loss = 196.84300231933594\n",
            "step = 19400: loss = 9.844772338867188\n",
            "step = 19600: loss = 20.85926628112793\n",
            "step = 19800: loss = 202.6625213623047\n",
            "step = 20000: loss = 11.433244705200195\n",
            "step = 20000: Average Return = 97.5999984741211\n"
          ],
          "name": "stdout"
        }
      ]
    },
    {
      "cell_type": "markdown",
      "metadata": {
        "id": "68jNcA_TiJDq"
      },
      "source": [
        "## Visualization\n"
      ]
    },
    {
      "cell_type": "markdown",
      "metadata": {
        "id": "aO-LWCdbbOIC"
      },
      "source": [
        "### Plots\n",
        "\n",
        "Use `matplotlib.pyplot` to chart how the policy improved during training.\n",
        "\n",
        "One iteration of `Cartpole-v0` consists of 200 time steps. The environment gives a reward of `+1` for each step the pole stays up, so the maximum return for one episode is 200. The charts shows the return increasing towards that maximum each time it is evaluated during training. (It may be a little unstable and not increase monotonically each time.)"
      ]
    },
    {
      "cell_type": "code",
      "metadata": {
        "id": "NxtL1mbOYCVO",
        "colab": {
          "base_uri": "https://localhost:8080/"
        },
        "outputId": "8a661b71-903a-468f-e4ef-3843f40c44a4"
      },
      "source": [
        "#@test {\"skip\": true}\n",
        "\n",
        "iterations = range(0, num_iterations + 1, eval_interval)\n",
        "plt.plot(iterations, returns)\n",
        "plt.ylabel('Average Return')\n",
        "plt.xlabel('Iterations')\n",
        "plt.ylim(top=250)"
      ],
      "execution_count": null,
      "outputs": [
        {
          "output_type": "execute_result",
          "data": {
            "text/plain": [
              "(3.1050004005432124, 250.0)"
            ]
          },
          "metadata": {
            "tags": []
          },
          "execution_count": 33
        },
        {
          "output_type": "display_data",
          "data": {
            "image/png": "[encoded data removed]",
            "text/plain": [
              "<Figure size 432x288 with 1 Axes>"
            ]
          },
          "metadata": {
            "tags": [],
            "needs_background": "light"
          }
        }
      ]
    },
    {
      "cell_type": "markdown",
      "metadata": {
        "id": "M7-XpPP99Cy7"
      },
      "source": [
        "### Videos"
      ]
    },
    {
      "cell_type": "markdown",
      "metadata": {
        "id": "9pGfGxSH32gn"
      },
      "source": [
        "Charts are nice. But more exciting is seeing an agent actually performing a task in an environment. \n",
        "\n",
        "First, create a function to embed videos in the notebook."
      ]
    },
    {
      "cell_type": "code",
      "metadata": {
        "id": "ULaGr8pvOKbl"
      },
      "source": [
        "def embed_mp4(filename):\n",
        "  \"\"\"Embeds an mp4 file in the notebook.\"\"\"\n",
        "  video = open(filename,'rb').read()\n",
        "  b64 = base64.b64encode(video)\n",
        "  tag = '''\n",
        "  <video width=\"640\" height=\"480\" controls>\n",
        "    <source src=\"data:video/mp4;base64,{0}\" type=\"video/mp4\">\n",
        "  Your browser does not support the video tag.\n",
        "  </video>'''.format(b64.decode())\n",
        "\n",
        "  return IPython.display.HTML(tag)"
      ],
      "execution_count": null,
      "outputs": []
    },
    {
      "cell_type": "markdown",
      "metadata": {
        "id": "9c_PH-pX4Pr5"
      },
      "source": [
        "Now iterate through a few episodes of the Cartpole game with the agent. The underlying Python environment (the one \"inside\" the TensorFlow environment wrapper) provides a `render()` method, which outputs an image of the environment state. These can be collected into a video."
      ]
    },
    {
      "cell_type": "code",
      "metadata": {
        "id": "owOVWB158NlF",
        "colab": {
          "base_uri": "https://localhost:8080/",
          "height": 538
        },
        "outputId": "175c69ad-5242-43a9-ecaa-cd433e4aec73"
      },
      "source": [
        "def create_policy_eval_video(policy, filename, num_episodes=5, fps=30):\n",
        "  filename = filename + \".mp4\"\n",
        "  with imageio.get_writer(filename, fps=fps) as video:\n",
        "    for _ in range(num_episodes):\n",
        "      time_step = eval_env.reset()\n",
        "      video.append_data(eval_py_env.render())\n",
        "      while not time_step.is_last():\n",
        "        action_step = policy.action(time_step)\n",
        "        time_step = eval_env.step(action_step.action)\n",
        "        video.append_data(eval_py_env.render())\n",
        "  return embed_mp4(filename)\n",
        "\n",
        "\n",
        "\n",
        "\n",
        "create_policy_eval_video(agent.policy, \"trained-agent\")"
      ],
      "execution_count": null,
      "outputs": [
        {
          "output_type": "stream",
          "text": [
            "WARNING:root:IMAGEIO FFMPEG_WRITER WARNING: input image is not divisible by macro_block_size=16, resizing from (400, 600) to (400, 608) to ensure video compatibility with most codecs and players. To prevent resizing, make your input image divisible by the macro_block_size or set the macro_block_size to None (risking incompatibility). You may also see a FFMPEG warning concerning speedloss due to data not being aligned.\n"
          ],
          "name": "stderr"
        },
        {
          "output_type": "execute_result",
          "data": {
            "text/html": [
              "\n",
              "  <video width=\"640\" height=\"480\" controls>\n",
              "    <source src=\"data:video/mp4;base64,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\" type=\"video/mp4\">\n",
              "  Your browser does not support the video tag.\n",
              "  </video>"
            ],
            "text/plain": [
              "<IPython.core.display.HTML object>"
            ]
          },
          "metadata": {
            "tags": []
          },
          "execution_count": 35
        }
      ]
    },
    {
      "cell_type": "markdown",
      "metadata": {
        "id": "povaAOcZygLw"
      },
      "source": [
        "For fun, compare the trained agent (above) to an agent moving randomly. (It does not do as well.)"
      ]
    },
    {
      "cell_type": "code",
      "metadata": {
        "id": "pJZIdC37yNH4",
        "colab": {
          "base_uri": "https://localhost:8080/",
          "height": 538
        },
        "outputId": "147b0246-fa5a-4ddf-82fe-8751a8d44576"
      },
      "source": [
        "create_policy_eval_video(random_policy, \"random-agent\")"
      ],
      "execution_count": null,
      "outputs": [
        {
          "output_type": "stream",
          "text": [
            "WARNING:root:IMAGEIO FFMPEG_WRITER WARNING: input image is not divisible by macro_block_size=16, resizing from (400, 600) to (400, 608) to ensure video compatibility with most codecs and players. To prevent resizing, make your input image divisible by the macro_block_size or set the macro_block_size to None (risking incompatibility). You may also see a FFMPEG warning concerning speedloss due to data not being aligned.\n"
          ],
          "name": "stderr"
        },
        {
          "output_type": "execute_result",
          "data": {
            "text/html": [
              "\n",
              "  <video width=\"640\" height=\"480\" controls>\n",
              "    <source src=\"data:video/mp4;base64,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\" type=\"video/mp4\">\n",
              "  Your browser does not support the video tag.\n",
              "  </video>"
            ],
            "text/plain": [
              "<IPython.core.display.HTML object>"
            ]
          },
          "metadata": {
            "tags": []
          },
          "execution_count": 36
        }
      ]
    }
  ]
}